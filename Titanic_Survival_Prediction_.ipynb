{
  "nbformat": 4,
  "nbformat_minor": 0,
  "metadata": {
    "colab": {
      "name": "Titanic Survival Prediction.",
      "provenance": [],
      "collapsed_sections": [],
      "toc_visible": true,
      "mount_file_id": "1dQrymU2mqPdurjFmjcUrofFZx_Lp47L3",
      "authorship_tag": "ABX9TyNU/nM4cLBsrLK/0C7ykbye",
      "include_colab_link": true
    },
    "kernelspec": {
      "name": "python3",
      "display_name": "Python 3"
    }
  },
  "cells": [
    {
      "cell_type": "markdown",
      "metadata": {
        "id": "view-in-github",
        "colab_type": "text"
      },
      "source": [
        "<a href=\"https://colab.research.google.com/github/javagarm/Titanic-Survival/blob/master/Titanic_Survival_Prediction_.ipynb\" target=\"_parent\"><img src=\"https://colab.research.google.com/assets/colab-badge.svg\" alt=\"Open In Colab\"/></a>"
      ]
    },
    {
      "cell_type": "code",
      "metadata": {
        "id": "xOkcNPIZkvO4",
        "outputId": "79b609a0-e33f-482a-bcd1-671ed2657306",
        "colab": {
          "base_uri": "https://localhost:8080/",
          "height": 72
        }
      },
      "source": [
        "import pandas as pd\n",
        "import numpy as np\n",
        "import seaborn as sns\n",
        "import matplotlib.pyplot as plt\n",
        "from sklearn.model_selection import train_test_split\n",
        "from sklearn.linear_model import LogisticRegression"
      ],
      "execution_count": null,
      "outputs": [
        {
          "output_type": "stream",
          "text": [
            "/usr/local/lib/python3.6/dist-packages/statsmodels/tools/_testing.py:19: FutureWarning: pandas.util.testing is deprecated. Use the functions in the public API at pandas.testing instead.\n",
            "  import pandas.util.testing as tm\n"
          ],
          "name": "stderr"
        }
      ]
    },
    {
      "cell_type": "code",
      "metadata": {
        "id": "Fp_FybTzlMBt"
      },
      "source": [
        "train_data = pd.read_csv(\"/content/drive/My Drive/titanic/train.csv\")\n",
        "test_data = pd.read_csv(\"/content/drive/My Drive/titanic/test.csv\")"
      ],
      "execution_count": null,
      "outputs": []
    },
    {
      "cell_type": "markdown",
      "metadata": {
        "id": "qupQ1T9PlfJt"
      },
      "source": [
        "# **Training Data and its Feature Engineering**"
      ]
    },
    {
      "cell_type": "code",
      "metadata": {
        "id": "A-wFgMc7lQ0Z",
        "outputId": "faa5a7f5-f3ee-48d8-ac73-1e1ac9c18c51",
        "colab": {
          "base_uri": "https://localhost:8080/",
          "height": 212
        }
      },
      "source": [
        "train_data.head()"
      ],
      "execution_count": null,
      "outputs": [
        {
          "output_type": "execute_result",
          "data": {
            "text/html": [
              "<div>\n",
              "<style scoped>\n",
              "    .dataframe tbody tr th:only-of-type {\n",
              "        vertical-align: middle;\n",
              "    }\n",
              "\n",
              "    .dataframe tbody tr th {\n",
              "        vertical-align: top;\n",
              "    }\n",
              "\n",
              "    .dataframe thead th {\n",
              "        text-align: right;\n",
              "    }\n",
              "</style>\n",
              "<table border=\"1\" class=\"dataframe\">\n",
              "  <thead>\n",
              "    <tr style=\"text-align: right;\">\n",
              "      <th></th>\n",
              "      <th>PassengerId</th>\n",
              "      <th>Survived</th>\n",
              "      <th>Pclass</th>\n",
              "      <th>Name</th>\n",
              "      <th>Sex</th>\n",
              "      <th>Age</th>\n",
              "      <th>SibSp</th>\n",
              "      <th>Parch</th>\n",
              "      <th>Ticket</th>\n",
              "      <th>Fare</th>\n",
              "      <th>Cabin</th>\n",
              "      <th>Embarked</th>\n",
              "    </tr>\n",
              "  </thead>\n",
              "  <tbody>\n",
              "    <tr>\n",
              "      <th>0</th>\n",
              "      <td>1</td>\n",
              "      <td>0</td>\n",
              "      <td>3</td>\n",
              "      <td>Braund, Mr. Owen Harris</td>\n",
              "      <td>male</td>\n",
              "      <td>22.0</td>\n",
              "      <td>1</td>\n",
              "      <td>0</td>\n",
              "      <td>A/5 21171</td>\n",
              "      <td>7.2500</td>\n",
              "      <td>NaN</td>\n",
              "      <td>S</td>\n",
              "    </tr>\n",
              "    <tr>\n",
              "      <th>1</th>\n",
              "      <td>2</td>\n",
              "      <td>1</td>\n",
              "      <td>1</td>\n",
              "      <td>Cumings, Mrs. John Bradley (Florence Briggs Th...</td>\n",
              "      <td>female</td>\n",
              "      <td>38.0</td>\n",
              "      <td>1</td>\n",
              "      <td>0</td>\n",
              "      <td>PC 17599</td>\n",
              "      <td>71.2833</td>\n",
              "      <td>C85</td>\n",
              "      <td>C</td>\n",
              "    </tr>\n",
              "    <tr>\n",
              "      <th>2</th>\n",
              "      <td>3</td>\n",
              "      <td>1</td>\n",
              "      <td>3</td>\n",
              "      <td>Heikkinen, Miss. Laina</td>\n",
              "      <td>female</td>\n",
              "      <td>26.0</td>\n",
              "      <td>0</td>\n",
              "      <td>0</td>\n",
              "      <td>STON/O2. 3101282</td>\n",
              "      <td>7.9250</td>\n",
              "      <td>NaN</td>\n",
              "      <td>S</td>\n",
              "    </tr>\n",
              "    <tr>\n",
              "      <th>3</th>\n",
              "      <td>4</td>\n",
              "      <td>1</td>\n",
              "      <td>1</td>\n",
              "      <td>Futrelle, Mrs. Jacques Heath (Lily May Peel)</td>\n",
              "      <td>female</td>\n",
              "      <td>35.0</td>\n",
              "      <td>1</td>\n",
              "      <td>0</td>\n",
              "      <td>113803</td>\n",
              "      <td>53.1000</td>\n",
              "      <td>C123</td>\n",
              "      <td>S</td>\n",
              "    </tr>\n",
              "    <tr>\n",
              "      <th>4</th>\n",
              "      <td>5</td>\n",
              "      <td>0</td>\n",
              "      <td>3</td>\n",
              "      <td>Allen, Mr. William Henry</td>\n",
              "      <td>male</td>\n",
              "      <td>35.0</td>\n",
              "      <td>0</td>\n",
              "      <td>0</td>\n",
              "      <td>373450</td>\n",
              "      <td>8.0500</td>\n",
              "      <td>NaN</td>\n",
              "      <td>S</td>\n",
              "    </tr>\n",
              "  </tbody>\n",
              "</table>\n",
              "</div>"
            ],
            "text/plain": [
              "   PassengerId  Survived  Pclass  ...     Fare Cabin  Embarked\n",
              "0            1         0       3  ...   7.2500   NaN         S\n",
              "1            2         1       1  ...  71.2833   C85         C\n",
              "2            3         1       3  ...   7.9250   NaN         S\n",
              "3            4         1       1  ...  53.1000  C123         S\n",
              "4            5         0       3  ...   8.0500   NaN         S\n",
              "\n",
              "[5 rows x 12 columns]"
            ]
          },
          "metadata": {
            "tags": []
          },
          "execution_count": 3
        }
      ]
    },
    {
      "cell_type": "code",
      "metadata": {
        "id": "53odAmh8lQmN",
        "outputId": "82041269-e45d-4cc4-e374-5fe1896d0de2",
        "colab": {
          "base_uri": "https://localhost:8080/",
          "height": 195
        }
      },
      "source": [
        "train_data.tail()"
      ],
      "execution_count": null,
      "outputs": [
        {
          "output_type": "execute_result",
          "data": {
            "text/html": [
              "<div>\n",
              "<style scoped>\n",
              "    .dataframe tbody tr th:only-of-type {\n",
              "        vertical-align: middle;\n",
              "    }\n",
              "\n",
              "    .dataframe tbody tr th {\n",
              "        vertical-align: top;\n",
              "    }\n",
              "\n",
              "    .dataframe thead th {\n",
              "        text-align: right;\n",
              "    }\n",
              "</style>\n",
              "<table border=\"1\" class=\"dataframe\">\n",
              "  <thead>\n",
              "    <tr style=\"text-align: right;\">\n",
              "      <th></th>\n",
              "      <th>PassengerId</th>\n",
              "      <th>Survived</th>\n",
              "      <th>Pclass</th>\n",
              "      <th>Name</th>\n",
              "      <th>Sex</th>\n",
              "      <th>Age</th>\n",
              "      <th>SibSp</th>\n",
              "      <th>Parch</th>\n",
              "      <th>Ticket</th>\n",
              "      <th>Fare</th>\n",
              "      <th>Cabin</th>\n",
              "      <th>Embarked</th>\n",
              "    </tr>\n",
              "  </thead>\n",
              "  <tbody>\n",
              "    <tr>\n",
              "      <th>886</th>\n",
              "      <td>887</td>\n",
              "      <td>0</td>\n",
              "      <td>2</td>\n",
              "      <td>Montvila, Rev. Juozas</td>\n",
              "      <td>male</td>\n",
              "      <td>27.0</td>\n",
              "      <td>0</td>\n",
              "      <td>0</td>\n",
              "      <td>211536</td>\n",
              "      <td>13.00</td>\n",
              "      <td>NaN</td>\n",
              "      <td>S</td>\n",
              "    </tr>\n",
              "    <tr>\n",
              "      <th>887</th>\n",
              "      <td>888</td>\n",
              "      <td>1</td>\n",
              "      <td>1</td>\n",
              "      <td>Graham, Miss. Margaret Edith</td>\n",
              "      <td>female</td>\n",
              "      <td>19.0</td>\n",
              "      <td>0</td>\n",
              "      <td>0</td>\n",
              "      <td>112053</td>\n",
              "      <td>30.00</td>\n",
              "      <td>B42</td>\n",
              "      <td>S</td>\n",
              "    </tr>\n",
              "    <tr>\n",
              "      <th>888</th>\n",
              "      <td>889</td>\n",
              "      <td>0</td>\n",
              "      <td>3</td>\n",
              "      <td>Johnston, Miss. Catherine Helen \"Carrie\"</td>\n",
              "      <td>female</td>\n",
              "      <td>NaN</td>\n",
              "      <td>1</td>\n",
              "      <td>2</td>\n",
              "      <td>W./C. 6607</td>\n",
              "      <td>23.45</td>\n",
              "      <td>NaN</td>\n",
              "      <td>S</td>\n",
              "    </tr>\n",
              "    <tr>\n",
              "      <th>889</th>\n",
              "      <td>890</td>\n",
              "      <td>1</td>\n",
              "      <td>1</td>\n",
              "      <td>Behr, Mr. Karl Howell</td>\n",
              "      <td>male</td>\n",
              "      <td>26.0</td>\n",
              "      <td>0</td>\n",
              "      <td>0</td>\n",
              "      <td>111369</td>\n",
              "      <td>30.00</td>\n",
              "      <td>C148</td>\n",
              "      <td>C</td>\n",
              "    </tr>\n",
              "    <tr>\n",
              "      <th>890</th>\n",
              "      <td>891</td>\n",
              "      <td>0</td>\n",
              "      <td>3</td>\n",
              "      <td>Dooley, Mr. Patrick</td>\n",
              "      <td>male</td>\n",
              "      <td>32.0</td>\n",
              "      <td>0</td>\n",
              "      <td>0</td>\n",
              "      <td>370376</td>\n",
              "      <td>7.75</td>\n",
              "      <td>NaN</td>\n",
              "      <td>Q</td>\n",
              "    </tr>\n",
              "  </tbody>\n",
              "</table>\n",
              "</div>"
            ],
            "text/plain": [
              "     PassengerId  Survived  Pclass  ...   Fare Cabin  Embarked\n",
              "886          887         0       2  ...  13.00   NaN         S\n",
              "887          888         1       1  ...  30.00   B42         S\n",
              "888          889         0       3  ...  23.45   NaN         S\n",
              "889          890         1       1  ...  30.00  C148         C\n",
              "890          891         0       3  ...   7.75   NaN         Q\n",
              "\n",
              "[5 rows x 12 columns]"
            ]
          },
          "metadata": {
            "tags": []
          },
          "execution_count": 4
        }
      ]
    },
    {
      "cell_type": "code",
      "metadata": {
        "id": "c2ddWPQXlaV7",
        "outputId": "70109618-a934-4fbb-e435-d17f050a4dc9",
        "colab": {
          "base_uri": "https://localhost:8080/",
          "height": 34
        }
      },
      "source": [
        "train_data.shape"
      ],
      "execution_count": null,
      "outputs": [
        {
          "output_type": "execute_result",
          "data": {
            "text/plain": [
              "(891, 12)"
            ]
          },
          "metadata": {
            "tags": []
          },
          "execution_count": 5
        }
      ]
    },
    {
      "cell_type": "code",
      "metadata": {
        "id": "8nLwKltQl7kN",
        "outputId": "a04d47d1-3930-4758-816b-9df37a27d804",
        "colab": {
          "base_uri": "https://localhost:8080/",
          "height": 246
        }
      },
      "source": [
        "train_data.isnull().sum()"
      ],
      "execution_count": null,
      "outputs": [
        {
          "output_type": "execute_result",
          "data": {
            "text/plain": [
              "PassengerId      0\n",
              "Survived         0\n",
              "Pclass           0\n",
              "Name             0\n",
              "Sex              0\n",
              "Age            177\n",
              "SibSp            0\n",
              "Parch            0\n",
              "Ticket           0\n",
              "Fare             0\n",
              "Cabin          687\n",
              "Embarked         2\n",
              "dtype: int64"
            ]
          },
          "metadata": {
            "tags": []
          },
          "execution_count": 6
        }
      ]
    },
    {
      "cell_type": "code",
      "metadata": {
        "id": "GrDtgaf_mAkv",
        "outputId": "eb187bd1-1b55-45c2-a999-da81276c1a81",
        "colab": {
          "base_uri": "https://localhost:8080/",
          "height": 351
        }
      },
      "source": [
        "train_data.info()"
      ],
      "execution_count": null,
      "outputs": [
        {
          "output_type": "stream",
          "text": [
            "<class 'pandas.core.frame.DataFrame'>\n",
            "RangeIndex: 891 entries, 0 to 890\n",
            "Data columns (total 12 columns):\n",
            " #   Column       Non-Null Count  Dtype  \n",
            "---  ------       --------------  -----  \n",
            " 0   PassengerId  891 non-null    int64  \n",
            " 1   Survived     891 non-null    int64  \n",
            " 2   Pclass       891 non-null    int64  \n",
            " 3   Name         891 non-null    object \n",
            " 4   Sex          891 non-null    object \n",
            " 5   Age          714 non-null    float64\n",
            " 6   SibSp        891 non-null    int64  \n",
            " 7   Parch        891 non-null    int64  \n",
            " 8   Ticket       891 non-null    object \n",
            " 9   Fare         891 non-null    float64\n",
            " 10  Cabin        204 non-null    object \n",
            " 11  Embarked     889 non-null    object \n",
            "dtypes: float64(2), int64(5), object(5)\n",
            "memory usage: 83.7+ KB\n"
          ],
          "name": "stdout"
        }
      ]
    },
    {
      "cell_type": "code",
      "metadata": {
        "id": "fPRWIdQOmEqS",
        "outputId": "3604b045-6d20-40f2-a52c-a2fcf47e7704",
        "colab": {
          "base_uri": "https://localhost:8080/",
          "height": 34
        }
      },
      "source": [
        "train_data.Pclass.unique()"
      ],
      "execution_count": null,
      "outputs": [
        {
          "output_type": "execute_result",
          "data": {
            "text/plain": [
              "array([3, 1, 2])"
            ]
          },
          "metadata": {
            "tags": []
          },
          "execution_count": 8
        }
      ]
    },
    {
      "cell_type": "code",
      "metadata": {
        "id": "IT7TGIxsmIcU",
        "outputId": "8a950a43-6d2a-4f92-9775-bab9e4722337",
        "colab": {
          "base_uri": "https://localhost:8080/",
          "height": 406
        }
      },
      "source": [
        "plt.figure(figsize=(8,6))\n",
        "sns.countplot(train_data.Pclass)"
      ],
      "execution_count": null,
      "outputs": [
        {
          "output_type": "execute_result",
          "data": {
            "text/plain": [
              "<matplotlib.axes._subplots.AxesSubplot at 0x7f78adc5eba8>"
            ]
          },
          "metadata": {
            "tags": []
          },
          "execution_count": 9
        },
        {
          "output_type": "display_data",
          "data": {
            "image/png": "[encoded data removed]",
            "text/plain": [
              "<Figure size 576x432 with 1 Axes>"
            ]
          },
          "metadata": {
            "tags": [],
            "needs_background": "light"
          }
        }
      ]
    },
    {
      "cell_type": "code",
      "metadata": {
        "id": "TCMkPrh_mMkr",
        "outputId": "01391569-d9c2-4be9-ce6c-6cd5220d3d09",
        "colab": {
          "base_uri": "https://localhost:8080/",
          "height": 34
        }
      },
      "source": [
        "train_data.Sex.unique()"
      ],
      "execution_count": null,
      "outputs": [
        {
          "output_type": "execute_result",
          "data": {
            "text/plain": [
              "array(['male', 'female'], dtype=object)"
            ]
          },
          "metadata": {
            "tags": []
          },
          "execution_count": 10
        }
      ]
    },
    {
      "cell_type": "code",
      "metadata": {
        "id": "mQDhDgkmmQVU",
        "outputId": "325d4ec3-e347-42bd-d04f-00f4531885cf",
        "colab": {
          "base_uri": "https://localhost:8080/",
          "height": 406
        }
      },
      "source": [
        "plt.figure(figsize=(8,6))\n",
        "sns.countplot(train_data.Sex)"
      ],
      "execution_count": null,
      "outputs": [
        {
          "output_type": "execute_result",
          "data": {
            "text/plain": [
              "<matplotlib.axes._subplots.AxesSubplot at 0x7f78adc5e588>"
            ]
          },
          "metadata": {
            "tags": []
          },
          "execution_count": 11
        },
        {
          "output_type": "display_data",
          "data": {
            "image/png": "[encoded data removed]",
            "text/plain": [
              "<Figure size 576x432 with 1 Axes>"
            ]
          },
          "metadata": {
            "tags": [],
            "needs_background": "light"
          }
        }
      ]
    },
    {
      "cell_type": "code",
      "metadata": {
        "id": "dYqxlCLEmUPS",
        "outputId": "ff24ea60-76dd-44de-e670-2c15e884e02b",
        "colab": {
          "base_uri": "https://localhost:8080/",
          "height": 193
        }
      },
      "source": [
        "train_data.Age.unique()"
      ],
      "execution_count": null,
      "outputs": [
        {
          "output_type": "execute_result",
          "data": {
            "text/plain": [
              "array([22.  , 38.  , 26.  , 35.  ,   nan, 54.  ,  2.  , 27.  , 14.  ,\n",
              "        4.  , 58.  , 20.  , 39.  , 55.  , 31.  , 34.  , 15.  , 28.  ,\n",
              "        8.  , 19.  , 40.  , 66.  , 42.  , 21.  , 18.  ,  3.  ,  7.  ,\n",
              "       49.  , 29.  , 65.  , 28.5 ,  5.  , 11.  , 45.  , 17.  , 32.  ,\n",
              "       16.  , 25.  ,  0.83, 30.  , 33.  , 23.  , 24.  , 46.  , 59.  ,\n",
              "       71.  , 37.  , 47.  , 14.5 , 70.5 , 32.5 , 12.  ,  9.  , 36.5 ,\n",
              "       51.  , 55.5 , 40.5 , 44.  ,  1.  , 61.  , 56.  , 50.  , 36.  ,\n",
              "       45.5 , 20.5 , 62.  , 41.  , 52.  , 63.  , 23.5 ,  0.92, 43.  ,\n",
              "       60.  , 10.  , 64.  , 13.  , 48.  ,  0.75, 53.  , 57.  , 80.  ,\n",
              "       70.  , 24.5 ,  6.  ,  0.67, 30.5 ,  0.42, 34.5 , 74.  ])"
            ]
          },
          "metadata": {
            "tags": []
          },
          "execution_count": 12
        }
      ]
    },
    {
      "cell_type": "code",
      "metadata": {
        "id": "1pOrvN6KmYbF",
        "outputId": "35f3e1e9-a136-4728-c357-c889031da37c",
        "colab": {
          "base_uri": "https://localhost:8080/",
          "height": 34
        }
      },
      "source": [
        "train_data.Embarked.unique()"
      ],
      "execution_count": null,
      "outputs": [
        {
          "output_type": "execute_result",
          "data": {
            "text/plain": [
              "array(['S', 'C', 'Q', nan], dtype=object)"
            ]
          },
          "metadata": {
            "tags": []
          },
          "execution_count": 13
        }
      ]
    },
    {
      "cell_type": "code",
      "metadata": {
        "id": "RnxGlJnnmdbd",
        "outputId": "0396afef-7bae-43f8-e47c-032d9c94d9de",
        "colab": {
          "base_uri": "https://localhost:8080/",
          "height": 1000
        }
      },
      "source": [
        "train_data.Name.unique()"
      ],
      "execution_count": null,
      "outputs": [
        {
          "output_type": "execute_result",
          "data": {
            "text/plain": [
              "array(['Braund, Mr. Owen Harris',\n",
              "       'Cumings, Mrs. John Bradley (Florence Briggs Thayer)',\n",
              "       'Heikkinen, Miss. Laina',\n",
              "       'Futrelle, Mrs. Jacques Heath (Lily May Peel)',\n",
              "       'Allen, Mr. William Henry', 'Moran, Mr. James',\n",
              "       'McCarthy, Mr. Timothy J', 'Palsson, Master. Gosta Leonard',\n",
              "       'Johnson, Mrs. Oscar W (Elisabeth Vilhelmina Berg)',\n",
              "       'Nasser, Mrs. Nicholas (Adele Achem)',\n",
              "       'Sandstrom, Miss. Marguerite Rut', 'Bonnell, Miss. Elizabeth',\n",
              "       'Saundercock, Mr. William Henry', 'Andersson, Mr. Anders Johan',\n",
              "       'Vestrom, Miss. Hulda Amanda Adolfina',\n",
              "       'Hewlett, Mrs. (Mary D Kingcome) ', 'Rice, Master. Eugene',\n",
              "       'Williams, Mr. Charles Eugene',\n",
              "       'Vander Planke, Mrs. Julius (Emelia Maria Vandemoortele)',\n",
              "       'Masselmani, Mrs. Fatima', 'Fynney, Mr. Joseph J',\n",
              "       'Beesley, Mr. Lawrence', 'McGowan, Miss. Anna \"Annie\"',\n",
              "       'Sloper, Mr. William Thompson', 'Palsson, Miss. Torborg Danira',\n",
              "       'Asplund, Mrs. Carl Oscar (Selma Augusta Emilia Johansson)',\n",
              "       'Emir, Mr. Farred Chehab', 'Fortune, Mr. Charles Alexander',\n",
              "       'O\\'Dwyer, Miss. Ellen \"Nellie\"', 'Todoroff, Mr. Lalio',\n",
              "       'Uruchurtu, Don. Manuel E',\n",
              "       'Spencer, Mrs. William Augustus (Marie Eugenie)',\n",
              "       'Glynn, Miss. Mary Agatha', 'Wheadon, Mr. Edward H',\n",
              "       'Meyer, Mr. Edgar Joseph', 'Holverson, Mr. Alexander Oskar',\n",
              "       'Mamee, Mr. Hanna', 'Cann, Mr. Ernest Charles',\n",
              "       'Vander Planke, Miss. Augusta Maria',\n",
              "       'Nicola-Yarred, Miss. Jamila',\n",
              "       'Ahlin, Mrs. Johan (Johanna Persdotter Larsson)',\n",
              "       'Turpin, Mrs. William John Robert (Dorothy Ann Wonnacott)',\n",
              "       'Kraeff, Mr. Theodor', 'Laroche, Miss. Simonne Marie Anne Andree',\n",
              "       'Devaney, Miss. Margaret Delia', 'Rogers, Mr. William John',\n",
              "       'Lennon, Mr. Denis', \"O'Driscoll, Miss. Bridget\",\n",
              "       'Samaan, Mr. Youssef',\n",
              "       'Arnold-Franchi, Mrs. Josef (Josefine Franchi)',\n",
              "       'Panula, Master. Juha Niilo', 'Nosworthy, Mr. Richard Cater',\n",
              "       'Harper, Mrs. Henry Sleeper (Myna Haxtun)',\n",
              "       'Faunthorpe, Mrs. Lizzie (Elizabeth Anne Wilkinson)',\n",
              "       'Ostby, Mr. Engelhart Cornelius', 'Woolner, Mr. Hugh',\n",
              "       'Rugg, Miss. Emily', 'Novel, Mr. Mansouer',\n",
              "       'West, Miss. Constance Mirium',\n",
              "       'Goodwin, Master. William Frederick', 'Sirayanian, Mr. Orsen',\n",
              "       'Icard, Miss. Amelie', 'Harris, Mr. Henry Birkhardt',\n",
              "       'Skoog, Master. Harald', 'Stewart, Mr. Albert A',\n",
              "       'Moubarek, Master. Gerios', 'Nye, Mrs. (Elizabeth Ramell)',\n",
              "       'Crease, Mr. Ernest James', 'Andersson, Miss. Erna Alexandra',\n",
              "       'Kink, Mr. Vincenz', 'Jenkin, Mr. Stephen Curnow',\n",
              "       'Goodwin, Miss. Lillian Amy', 'Hood, Mr. Ambrose Jr',\n",
              "       'Chronopoulos, Mr. Apostolos', 'Bing, Mr. Lee',\n",
              "       'Moen, Mr. Sigurd Hansen', 'Staneff, Mr. Ivan',\n",
              "       'Moutal, Mr. Rahamin Haim', 'Caldwell, Master. Alden Gates',\n",
              "       'Dowdell, Miss. Elizabeth', 'Waelens, Mr. Achille',\n",
              "       'Sheerlinck, Mr. Jan Baptist', 'McDermott, Miss. Brigdet Delia',\n",
              "       'Carrau, Mr. Francisco M', 'Ilett, Miss. Bertha',\n",
              "       'Backstrom, Mrs. Karl Alfred (Maria Mathilda Gustafsson)',\n",
              "       'Ford, Mr. William Neal', 'Slocovski, Mr. Selman Francis',\n",
              "       'Fortune, Miss. Mabel Helen', 'Celotti, Mr. Francesco',\n",
              "       'Christmann, Mr. Emil', 'Andreasson, Mr. Paul Edvin',\n",
              "       'Chaffee, Mr. Herbert Fuller', 'Dean, Mr. Bertram Frank',\n",
              "       'Coxon, Mr. Daniel', 'Shorney, Mr. Charles Joseph',\n",
              "       'Goldschmidt, Mr. George B', 'Greenfield, Mr. William Bertram',\n",
              "       'Doling, Mrs. John T (Ada Julia Bone)', 'Kantor, Mr. Sinai',\n",
              "       'Petranec, Miss. Matilda', 'Petroff, Mr. Pastcho (\"Pentcho\")',\n",
              "       'White, Mr. Richard Frasar', 'Johansson, Mr. Gustaf Joel',\n",
              "       'Gustafsson, Mr. Anders Vilhelm', 'Mionoff, Mr. Stoytcho',\n",
              "       'Salkjelsvik, Miss. Anna Kristine', 'Moss, Mr. Albert Johan',\n",
              "       'Rekic, Mr. Tido', 'Moran, Miss. Bertha',\n",
              "       'Porter, Mr. Walter Chamberlain', 'Zabour, Miss. Hileni',\n",
              "       'Barton, Mr. David John', 'Jussila, Miss. Katriina',\n",
              "       'Attalah, Miss. Malake', 'Pekoniemi, Mr. Edvard',\n",
              "       'Connors, Mr. Patrick', 'Turpin, Mr. William John Robert',\n",
              "       'Baxter, Mr. Quigg Edmond', 'Andersson, Miss. Ellis Anna Maria',\n",
              "       'Hickman, Mr. Stanley George', 'Moore, Mr. Leonard Charles',\n",
              "       'Nasser, Mr. Nicholas', 'Webber, Miss. Susan',\n",
              "       'White, Mr. Percival Wayland', 'Nicola-Yarred, Master. Elias',\n",
              "       'McMahon, Mr. Martin', 'Madsen, Mr. Fridtjof Arne',\n",
              "       'Peter, Miss. Anna', 'Ekstrom, Mr. Johan', 'Drazenoic, Mr. Jozef',\n",
              "       'Coelho, Mr. Domingos Fernandeo',\n",
              "       'Robins, Mrs. Alexander A (Grace Charity Laury)',\n",
              "       'Weisz, Mrs. Leopold (Mathilde Francoise Pede)',\n",
              "       'Sobey, Mr. Samuel James Hayden', 'Richard, Mr. Emile',\n",
              "       'Newsom, Miss. Helen Monypeny', 'Futrelle, Mr. Jacques Heath',\n",
              "       'Osen, Mr. Olaf Elon', 'Giglio, Mr. Victor',\n",
              "       'Boulos, Mrs. Joseph (Sultana)', 'Nysten, Miss. Anna Sofia',\n",
              "       'Hakkarainen, Mrs. Pekka Pietari (Elin Matilda Dolck)',\n",
              "       'Burke, Mr. Jeremiah', 'Andrew, Mr. Edgardo Samuel',\n",
              "       'Nicholls, Mr. Joseph Charles',\n",
              "       'Andersson, Mr. August Edvard (\"Wennerstrom\")',\n",
              "       'Ford, Miss. Robina Maggie \"Ruby\"',\n",
              "       'Navratil, Mr. Michel (\"Louis M Hoffman\")',\n",
              "       'Byles, Rev. Thomas Roussel Davids', 'Bateman, Rev. Robert James',\n",
              "       'Pears, Mrs. Thomas (Edith Wearne)', 'Meo, Mr. Alfonzo',\n",
              "       'van Billiard, Mr. Austin Blyler', 'Olsen, Mr. Ole Martin',\n",
              "       'Williams, Mr. Charles Duane', 'Gilnagh, Miss. Katherine \"Katie\"',\n",
              "       'Corn, Mr. Harry', 'Smiljanic, Mr. Mile',\n",
              "       'Sage, Master. Thomas Henry', 'Cribb, Mr. John Hatfield',\n",
              "       'Watt, Mrs. James (Elizabeth \"Bessie\" Inglis Milne)',\n",
              "       'Bengtsson, Mr. John Viktor', 'Calic, Mr. Jovo',\n",
              "       'Panula, Master. Eino Viljami',\n",
              "       'Goldsmith, Master. Frank John William \"Frankie\"',\n",
              "       'Chibnall, Mrs. (Edith Martha Bowerman)',\n",
              "       'Skoog, Mrs. William (Anna Bernhardina Karlsson)',\n",
              "       'Baumann, Mr. John D', 'Ling, Mr. Lee',\n",
              "       'Van der hoef, Mr. Wyckoff', 'Rice, Master. Arthur',\n",
              "       'Johnson, Miss. Eleanor Ileen', 'Sivola, Mr. Antti Wilhelm',\n",
              "       'Smith, Mr. James Clinch', 'Klasen, Mr. Klas Albin',\n",
              "       'Lefebre, Master. Henry Forbes', 'Isham, Miss. Ann Elizabeth',\n",
              "       'Hale, Mr. Reginald', 'Leonard, Mr. Lionel',\n",
              "       'Sage, Miss. Constance Gladys', 'Pernot, Mr. Rene',\n",
              "       'Asplund, Master. Clarence Gustaf Hugo',\n",
              "       'Becker, Master. Richard F', 'Kink-Heilmann, Miss. Luise Gretchen',\n",
              "       'Rood, Mr. Hugh Roscoe',\n",
              "       'O\\'Brien, Mrs. Thomas (Johanna \"Hannah\" Godfrey)',\n",
              "       'Romaine, Mr. Charles Hallace (\"Mr C Rolmane\")',\n",
              "       'Bourke, Mr. John', 'Turcin, Mr. Stjepan', 'Pinsky, Mrs. (Rosa)',\n",
              "       'Carbines, Mr. William',\n",
              "       'Andersen-Jensen, Miss. Carla Christine Nielsine',\n",
              "       'Navratil, Master. Michel M',\n",
              "       'Brown, Mrs. James Joseph (Margaret Tobin)',\n",
              "       'Lurette, Miss. Elise', 'Mernagh, Mr. Robert',\n",
              "       'Olsen, Mr. Karl Siegwart Andreas',\n",
              "       'Madigan, Miss. Margaret \"Maggie\"',\n",
              "       'Yrois, Miss. Henriette (\"Mrs Harbeck\")',\n",
              "       'Vande Walle, Mr. Nestor Cyriel', 'Sage, Mr. Frederick',\n",
              "       'Johanson, Mr. Jakob Alfred', 'Youseff, Mr. Gerious',\n",
              "       'Cohen, Mr. Gurshon \"Gus\"', 'Strom, Miss. Telma Matilda',\n",
              "       'Backstrom, Mr. Karl Alfred', 'Albimona, Mr. Nassef Cassem',\n",
              "       'Carr, Miss. Helen \"Ellen\"', 'Blank, Mr. Henry', 'Ali, Mr. Ahmed',\n",
              "       'Cameron, Miss. Clear Annie', 'Perkin, Mr. John Henry',\n",
              "       'Givard, Mr. Hans Kristensen', 'Kiernan, Mr. Philip',\n",
              "       'Newell, Miss. Madeleine', 'Honkanen, Miss. Eliina',\n",
              "       'Jacobsohn, Mr. Sidney Samuel', 'Bazzani, Miss. Albina',\n",
              "       'Harris, Mr. Walter', 'Sunderland, Mr. Victor Francis',\n",
              "       'Bracken, Mr. James H', 'Green, Mr. George Henry',\n",
              "       'Nenkoff, Mr. Christo', 'Hoyt, Mr. Frederick Maxfield',\n",
              "       'Berglund, Mr. Karl Ivar Sven', 'Mellors, Mr. William John',\n",
              "       'Lovell, Mr. John Hall (\"Henry\")', 'Fahlstrom, Mr. Arne Jonas',\n",
              "       'Lefebre, Miss. Mathilde',\n",
              "       'Harris, Mrs. Henry Birkhardt (Irene Wallach)',\n",
              "       'Larsson, Mr. Bengt Edvin', 'Sjostedt, Mr. Ernst Adolf',\n",
              "       'Asplund, Miss. Lillian Gertrud',\n",
              "       'Leyson, Mr. Robert William Norman',\n",
              "       'Harknett, Miss. Alice Phoebe', 'Hold, Mr. Stephen',\n",
              "       'Collyer, Miss. Marjorie \"Lottie\"',\n",
              "       'Pengelly, Mr. Frederick William', 'Hunt, Mr. George Henry',\n",
              "       'Zabour, Miss. Thamine', 'Murphy, Miss. Katherine \"Kate\"',\n",
              "       'Coleridge, Mr. Reginald Charles', 'Maenpaa, Mr. Matti Alexanteri',\n",
              "       'Attalah, Mr. Sleiman', 'Minahan, Dr. William Edward',\n",
              "       'Lindahl, Miss. Agda Thorilda Viktoria',\n",
              "       'Hamalainen, Mrs. William (Anna)', 'Beckwith, Mr. Richard Leonard',\n",
              "       'Carter, Rev. Ernest Courtenay', 'Reed, Mr. James George',\n",
              "       'Strom, Mrs. Wilhelm (Elna Matilda Persson)',\n",
              "       'Stead, Mr. William Thomas', 'Lobb, Mr. William Arthur',\n",
              "       'Rosblom, Mrs. Viktor (Helena Wilhelmina)',\n",
              "       'Touma, Mrs. Darwis (Hanne Youssef Razi)',\n",
              "       'Thorne, Mrs. Gertrude Maybelle', 'Cherry, Miss. Gladys',\n",
              "       'Ward, Miss. Anna', 'Parrish, Mrs. (Lutie Davis)',\n",
              "       'Smith, Mr. Thomas', 'Asplund, Master. Edvin Rojj Felix',\n",
              "       'Taussig, Mr. Emil', 'Harrison, Mr. William', 'Henry, Miss. Delia',\n",
              "       'Reeves, Mr. David', 'Panula, Mr. Ernesti Arvid',\n",
              "       'Persson, Mr. Ernst Ulrik',\n",
              "       'Graham, Mrs. William Thompson (Edith Junkins)',\n",
              "       'Bissette, Miss. Amelia', 'Cairns, Mr. Alexander',\n",
              "       'Tornquist, Mr. William Henry',\n",
              "       'Mellinger, Mrs. (Elizabeth Anne Maidment)',\n",
              "       'Natsch, Mr. Charles H', 'Healy, Miss. Hanora \"Nora\"',\n",
              "       'Andrews, Miss. Kornelia Theodosia',\n",
              "       'Lindblom, Miss. Augusta Charlotta', 'Parkes, Mr. Francis \"Frank\"',\n",
              "       'Rice, Master. Eric', 'Abbott, Mrs. Stanton (Rosa Hunt)',\n",
              "       'Duane, Mr. Frank', 'Olsson, Mr. Nils Johan Goransson',\n",
              "       'de Pelsmaeker, Mr. Alfons', 'Dorking, Mr. Edward Arthur',\n",
              "       'Smith, Mr. Richard William', 'Stankovic, Mr. Ivan',\n",
              "       'de Mulder, Mr. Theodore', 'Naidenoff, Mr. Penko',\n",
              "       'Hosono, Mr. Masabumi', 'Connolly, Miss. Kate',\n",
              "       'Barber, Miss. Ellen \"Nellie\"',\n",
              "       'Bishop, Mrs. Dickinson H (Helen Walton)',\n",
              "       'Levy, Mr. Rene Jacques', 'Haas, Miss. Aloisia',\n",
              "       'Mineff, Mr. Ivan', 'Lewy, Mr. Ervin G', 'Hanna, Mr. Mansour',\n",
              "       'Allison, Miss. Helen Loraine', 'Saalfeld, Mr. Adolphe',\n",
              "       'Baxter, Mrs. James (Helene DeLaudeniere Chaput)',\n",
              "       'Kelly, Miss. Anna Katherine \"Annie Kate\"', 'McCoy, Mr. Bernard',\n",
              "       'Johnson, Mr. William Cahoone Jr', 'Keane, Miss. Nora A',\n",
              "       'Williams, Mr. Howard Hugh \"Harry\"',\n",
              "       'Allison, Master. Hudson Trevor', 'Fleming, Miss. Margaret',\n",
              "       'Penasco y Castellana, Mrs. Victor de Satode (Maria Josefa Perez de Soto y Vallejo)',\n",
              "       'Abelson, Mr. Samuel', 'Francatelli, Miss. Laura Mabel',\n",
              "       'Hays, Miss. Margaret Bechstein', 'Ryerson, Miss. Emily Borie',\n",
              "       'Lahtinen, Mrs. William (Anna Sylfven)', 'Hendekovic, Mr. Ignjac',\n",
              "       'Hart, Mr. Benjamin', 'Nilsson, Miss. Helmina Josefina',\n",
              "       'Kantor, Mrs. Sinai (Miriam Sternin)', 'Moraweck, Dr. Ernest',\n",
              "       'Wick, Miss. Mary Natalie',\n",
              "       'Spedden, Mrs. Frederic Oakley (Margaretta Corning Stone)',\n",
              "       'Dennis, Mr. Samuel', 'Danoff, Mr. Yoto',\n",
              "       'Slayter, Miss. Hilda Mary',\n",
              "       'Caldwell, Mrs. Albert Francis (Sylvia Mae Harbaugh)',\n",
              "       'Sage, Mr. George John Jr', 'Young, Miss. Marie Grice',\n",
              "       'Nysveen, Mr. Johan Hansen', 'Ball, Mrs. (Ada E Hall)',\n",
              "       'Goldsmith, Mrs. Frank John (Emily Alice Brown)',\n",
              "       'Hippach, Miss. Jean Gertrude', 'McCoy, Miss. Agnes',\n",
              "       'Partner, Mr. Austen', 'Graham, Mr. George Edward',\n",
              "       'Vander Planke, Mr. Leo Edmondus',\n",
              "       'Frauenthal, Mrs. Henry William (Clara Heinsheimer)',\n",
              "       'Denkoff, Mr. Mitto', 'Pears, Mr. Thomas Clinton',\n",
              "       'Burns, Miss. Elizabeth Margaret', 'Dahl, Mr. Karl Edwart',\n",
              "       'Blackwell, Mr. Stephen Weart', 'Navratil, Master. Edmond Roger',\n",
              "       'Fortune, Miss. Alice Elizabeth', 'Collander, Mr. Erik Gustaf',\n",
              "       'Sedgwick, Mr. Charles Frederick Waddington',\n",
              "       'Fox, Mr. Stanley Hubert', 'Brown, Miss. Amelia \"Mildred\"',\n",
              "       'Smith, Miss. Marion Elsie',\n",
              "       'Davison, Mrs. Thomas Henry (Mary E Finck)',\n",
              "       'Coutts, Master. William Loch \"William\"', 'Dimic, Mr. Jovan',\n",
              "       'Odahl, Mr. Nils Martin', 'Williams-Lambert, Mr. Fletcher Fellows',\n",
              "       'Elias, Mr. Tannous', 'Arnold-Franchi, Mr. Josef',\n",
              "       'Yousif, Mr. Wazli', 'Vanden Steen, Mr. Leo Peter',\n",
              "       'Bowerman, Miss. Elsie Edith', 'Funk, Miss. Annie Clemmer',\n",
              "       'McGovern, Miss. Mary', 'Mockler, Miss. Helen Mary \"Ellie\"',\n",
              "       'Skoog, Mr. Wilhelm', 'del Carlo, Mr. Sebastiano',\n",
              "       'Barbara, Mrs. (Catherine David)', 'Asim, Mr. Adola',\n",
              "       \"O'Brien, Mr. Thomas\", 'Adahl, Mr. Mauritz Nils Martin',\n",
              "       'Warren, Mrs. Frank Manley (Anna Sophia Atkinson)',\n",
              "       'Moussa, Mrs. (Mantoura Boulos)', 'Jermyn, Miss. Annie',\n",
              "       'Aubart, Mme. Leontine Pauline', 'Harder, Mr. George Achilles',\n",
              "       'Wiklund, Mr. Jakob Alfred', 'Beavan, Mr. William Thomas',\n",
              "       'Ringhini, Mr. Sante', 'Palsson, Miss. Stina Viola',\n",
              "       'Meyer, Mrs. Edgar Joseph (Leila Saks)',\n",
              "       'Landergren, Miss. Aurora Adelia', 'Widener, Mr. Harry Elkins',\n",
              "       'Betros, Mr. Tannous', 'Gustafsson, Mr. Karl Gideon',\n",
              "       'Bidois, Miss. Rosalie', 'Nakid, Miss. Maria (\"Mary\")',\n",
              "       'Tikkanen, Mr. Juho',\n",
              "       'Holverson, Mrs. Alexander Oskar (Mary Aline Towner)',\n",
              "       'Plotcharsky, Mr. Vasil', 'Davies, Mr. Charles Henry',\n",
              "       'Goodwin, Master. Sidney Leonard', 'Buss, Miss. Kate',\n",
              "       'Sadlier, Mr. Matthew', 'Lehmann, Miss. Bertha',\n",
              "       'Carter, Mr. William Ernest', 'Jansson, Mr. Carl Olof',\n",
              "       'Gustafsson, Mr. Johan Birger', 'Newell, Miss. Marjorie',\n",
              "       'Sandstrom, Mrs. Hjalmar (Agnes Charlotta Bengtsson)',\n",
              "       'Johansson, Mr. Erik', 'Olsson, Miss. Elina',\n",
              "       'McKane, Mr. Peter David', 'Pain, Dr. Alfred',\n",
              "       'Trout, Mrs. William H (Jessie L)', 'Niskanen, Mr. Juha',\n",
              "       'Adams, Mr. John', 'Jussila, Miss. Mari Aina',\n",
              "       'Hakkarainen, Mr. Pekka Pietari', 'Oreskovic, Miss. Marija',\n",
              "       'Gale, Mr. Shadrach', 'Widegren, Mr. Carl/Charles Peter',\n",
              "       'Richards, Master. William Rowe',\n",
              "       'Birkeland, Mr. Hans Martin Monsen', 'Lefebre, Miss. Ida',\n",
              "       'Sdycoff, Mr. Todor', 'Hart, Mr. Henry', 'Minahan, Miss. Daisy E',\n",
              "       'Cunningham, Mr. Alfred Fleming', 'Sundman, Mr. Johan Julian',\n",
              "       'Meek, Mrs. Thomas (Annie Louise Rowley)',\n",
              "       'Drew, Mrs. James Vivian (Lulu Thorne Christian)',\n",
              "       'Silven, Miss. Lyyli Karoliina', 'Matthews, Mr. William John',\n",
              "       'Van Impe, Miss. Catharina', 'Gheorgheff, Mr. Stanio',\n",
              "       'Charters, Mr. David', 'Zimmerman, Mr. Leo',\n",
              "       'Danbom, Mrs. Ernst Gilbert (Anna Sigrid Maria Brogren)',\n",
              "       'Rosblom, Mr. Viktor Richard', 'Wiseman, Mr. Phillippe',\n",
              "       'Clarke, Mrs. Charles V (Ada Maria Winfield)',\n",
              "       'Phillips, Miss. Kate Florence (\"Mrs Kate Louise Phillips Marshall\")',\n",
              "       'Flynn, Mr. James', 'Pickard, Mr. Berk (Berk Trembisky)',\n",
              "       'Bjornstrom-Steffansson, Mr. Mauritz Hakan',\n",
              "       'Thorneycroft, Mrs. Percival (Florence Kate White)',\n",
              "       'Louch, Mrs. Charles Alexander (Alice Adelaide Slow)',\n",
              "       'Kallio, Mr. Nikolai Erland', 'Silvey, Mr. William Baird',\n",
              "       'Carter, Miss. Lucile Polk',\n",
              "       'Ford, Miss. Doolina Margaret \"Daisy\"',\n",
              "       'Richards, Mrs. Sidney (Emily Hocking)', 'Fortune, Mr. Mark',\n",
              "       'Kvillner, Mr. Johan Henrik Johannesson',\n",
              "       'Hart, Mrs. Benjamin (Esther Ada Bloomfield)', 'Hampe, Mr. Leon',\n",
              "       'Petterson, Mr. Johan Emil', 'Reynaldo, Ms. Encarnacion',\n",
              "       'Johannesen-Bratthammer, Mr. Bernt', 'Dodge, Master. Washington',\n",
              "       'Mellinger, Miss. Madeleine Violet', 'Seward, Mr. Frederic Kimber',\n",
              "       'Baclini, Miss. Marie Catherine', 'Peuchen, Major. Arthur Godfrey',\n",
              "       'West, Mr. Edwy Arthur', 'Hagland, Mr. Ingvald Olai Olsen',\n",
              "       'Foreman, Mr. Benjamin Laventall', 'Goldenberg, Mr. Samuel L',\n",
              "       'Peduzzi, Mr. Joseph', 'Jalsevac, Mr. Ivan',\n",
              "       'Millet, Mr. Francis Davis', 'Kenyon, Mrs. Frederick R (Marion)',\n",
              "       'Toomey, Miss. Ellen', \"O'Connor, Mr. Maurice\",\n",
              "       'Anderson, Mr. Harry', 'Morley, Mr. William', 'Gee, Mr. Arthur H',\n",
              "       'Milling, Mr. Jacob Christian', 'Maisner, Mr. Simon',\n",
              "       'Goncalves, Mr. Manuel Estanslas', 'Campbell, Mr. William',\n",
              "       'Smart, Mr. John Montgomery', 'Scanlan, Mr. James',\n",
              "       'Baclini, Miss. Helene Barbara', 'Keefe, Mr. Arthur',\n",
              "       'Cacic, Mr. Luka', 'West, Mrs. Edwy Arthur (Ada Mary Worth)',\n",
              "       'Jerwan, Mrs. Amin S (Marie Marthe Thuillard)',\n",
              "       'Strandberg, Miss. Ida Sofia', 'Clifford, Mr. George Quincy',\n",
              "       'Renouf, Mr. Peter Henry', 'Braund, Mr. Lewis Richard',\n",
              "       'Karlsson, Mr. Nils August', 'Hirvonen, Miss. Hildur E',\n",
              "       'Goodwin, Master. Harold Victor',\n",
              "       'Frost, Mr. Anthony Wood \"Archie\"', 'Rouse, Mr. Richard Henry',\n",
              "       'Turkula, Mrs. (Hedwig)', 'Bishop, Mr. Dickinson H',\n",
              "       'Lefebre, Miss. Jeannie',\n",
              "       'Hoyt, Mrs. Frederick Maxfield (Jane Anne Forby)',\n",
              "       'Kent, Mr. Edward Austin', 'Somerton, Mr. Francis William',\n",
              "       'Coutts, Master. Eden Leslie \"Neville\"',\n",
              "       'Hagland, Mr. Konrad Mathias Reiersen', 'Windelov, Mr. Einar',\n",
              "       'Molson, Mr. Harry Markland', 'Artagaveytia, Mr. Ramon',\n",
              "       'Stanley, Mr. Edward Roland', 'Yousseff, Mr. Gerious',\n",
              "       'Eustis, Miss. Elizabeth Mussey',\n",
              "       'Shellard, Mr. Frederick William',\n",
              "       'Allison, Mrs. Hudson J C (Bessie Waldo Daniels)',\n",
              "       'Svensson, Mr. Olof', 'Calic, Mr. Petar', 'Canavan, Miss. Mary',\n",
              "       \"O'Sullivan, Miss. Bridget Mary\", 'Laitinen, Miss. Kristina Sofia',\n",
              "       'Maioni, Miss. Roberta',\n",
              "       'Penasco y Castellana, Mr. Victor de Satode',\n",
              "       'Quick, Mrs. Frederick Charles (Jane Richards)',\n",
              "       'Bradley, Mr. George (\"George Arthur Brayton\")',\n",
              "       'Olsen, Mr. Henry Margido', 'Lang, Mr. Fang',\n",
              "       'Daly, Mr. Eugene Patrick', 'Webber, Mr. James',\n",
              "       'McGough, Mr. James Robert',\n",
              "       'Rothschild, Mrs. Martin (Elizabeth L. Barrett)',\n",
              "       'Coleff, Mr. Satio', 'Walker, Mr. William Anderson',\n",
              "       'Lemore, Mrs. (Amelia Milley)', 'Ryan, Mr. Patrick',\n",
              "       'Angle, Mrs. William A (Florence \"Mary\" Agnes Hughes)',\n",
              "       'Pavlovic, Mr. Stefo', 'Perreault, Miss. Anne', 'Vovk, Mr. Janko',\n",
              "       'Lahoud, Mr. Sarkis',\n",
              "       'Hippach, Mrs. Louis Albert (Ida Sophia Fischer)',\n",
              "       'Kassem, Mr. Fared', 'Farrell, Mr. James', 'Ridsdale, Miss. Lucy',\n",
              "       'Farthing, Mr. John', 'Salonen, Mr. Johan Werner',\n",
              "       'Hocking, Mr. Richard George', 'Quick, Miss. Phyllis May',\n",
              "       'Toufik, Mr. Nakli', 'Elias, Mr. Joseph Jr',\n",
              "       'Peter, Mrs. Catherine (Catherine Rizk)', 'Cacic, Miss. Marija',\n",
              "       'Hart, Miss. Eva Miriam', 'Butt, Major. Archibald Willingham',\n",
              "       'LeRoy, Miss. Bertha', 'Risien, Mr. Samuel Beard',\n",
              "       'Frolicher, Miss. Hedwig Margaritha', 'Crosby, Miss. Harriet R',\n",
              "       'Andersson, Miss. Ingeborg Constanzia',\n",
              "       'Andersson, Miss. Sigrid Elisabeth', 'Beane, Mr. Edward',\n",
              "       'Douglas, Mr. Walter Donald', 'Nicholson, Mr. Arthur Ernest',\n",
              "       'Beane, Mrs. Edward (Ethel Clarke)', 'Padro y Manent, Mr. Julian',\n",
              "       'Goldsmith, Mr. Frank John', 'Davies, Master. John Morgan Jr',\n",
              "       'Thayer, Mr. John Borland Jr', 'Sharp, Mr. Percival James R',\n",
              "       \"O'Brien, Mr. Timothy\", 'Leeni, Mr. Fahim (\"Philip Zenni\")',\n",
              "       'Ohman, Miss. Velin', 'Wright, Mr. George',\n",
              "       'Duff Gordon, Lady. (Lucille Christiana Sutherland) (\"Mrs Morgan\")',\n",
              "       'Robbins, Mr. Victor', 'Taussig, Mrs. Emil (Tillie Mandelbaum)',\n",
              "       'de Messemaeker, Mrs. Guillaume Joseph (Emma)',\n",
              "       'Morrow, Mr. Thomas Rowan', 'Sivic, Mr. Husein',\n",
              "       'Norman, Mr. Robert Douglas', 'Simmons, Mr. John',\n",
              "       'Meanwell, Miss. (Marion Ogden)', 'Davies, Mr. Alfred J',\n",
              "       'Stoytcheff, Mr. Ilia',\n",
              "       'Palsson, Mrs. Nils (Alma Cornelia Berglund)',\n",
              "       'Doharr, Mr. Tannous', 'Jonsson, Mr. Carl', 'Harris, Mr. George',\n",
              "       'Appleton, Mrs. Edward Dale (Charlotte Lamson)',\n",
              "       'Flynn, Mr. John Irwin (\"Irving\")', 'Kelly, Miss. Mary',\n",
              "       'Rush, Mr. Alfred George John', 'Patchett, Mr. George',\n",
              "       'Garside, Miss. Ethel',\n",
              "       'Silvey, Mrs. William Baird (Alice Munger)',\n",
              "       'Caram, Mrs. Joseph (Maria Elias)', 'Jussila, Mr. Eiriik',\n",
              "       'Christy, Miss. Julie Rachel',\n",
              "       'Thayer, Mrs. John Borland (Marian Longstreth Morris)',\n",
              "       'Downton, Mr. William James', 'Ross, Mr. John Hugo',\n",
              "       'Paulner, Mr. Uscher', 'Taussig, Miss. Ruth',\n",
              "       'Jarvis, Mr. John Denzil', 'Frolicher-Stehli, Mr. Maxmillian',\n",
              "       'Gilinski, Mr. Eliezer', 'Murdlin, Mr. Joseph',\n",
              "       'Rintamaki, Mr. Matti',\n",
              "       'Stephenson, Mrs. Walter Bertram (Martha Eustis)',\n",
              "       'Elsbury, Mr. William James', 'Bourke, Miss. Mary',\n",
              "       'Chapman, Mr. John Henry', 'Van Impe, Mr. Jean Baptiste',\n",
              "       'Leitch, Miss. Jessie Wills', 'Johnson, Mr. Alfred',\n",
              "       'Boulos, Mr. Hanna',\n",
              "       'Duff Gordon, Sir. Cosmo Edmund (\"Mr Morgan\")',\n",
              "       'Jacobsohn, Mrs. Sidney Samuel (Amy Frances Christy)',\n",
              "       'Slabenoff, Mr. Petco', 'Harrington, Mr. Charles H',\n",
              "       'Torber, Mr. Ernst William', 'Homer, Mr. Harry (\"Mr E Haven\")',\n",
              "       'Lindell, Mr. Edvard Bengtsson', 'Karaic, Mr. Milan',\n",
              "       'Daniel, Mr. Robert Williams',\n",
              "       'Laroche, Mrs. Joseph (Juliette Marie Louise Lafargue)',\n",
              "       'Shutes, Miss. Elizabeth W',\n",
              "       'Andersson, Mrs. Anders Johan (Alfrida Konstantia Brogren)',\n",
              "       'Jardin, Mr. Jose Neto', 'Murphy, Miss. Margaret Jane',\n",
              "       'Horgan, Mr. John', 'Brocklebank, Mr. William Alfred',\n",
              "       'Herman, Miss. Alice', 'Danbom, Mr. Ernst Gilbert',\n",
              "       'Lobb, Mrs. William Arthur (Cordelia K Stanlick)',\n",
              "       'Becker, Miss. Marion Louise', 'Gavey, Mr. Lawrence',\n",
              "       'Yasbeck, Mr. Antoni', 'Kimball, Mr. Edwin Nelson Jr',\n",
              "       'Nakid, Mr. Sahid', 'Hansen, Mr. Henry Damsgaard',\n",
              "       'Bowen, Mr. David John \"Dai\"', 'Sutton, Mr. Frederick',\n",
              "       'Kirkland, Rev. Charles Leonard', 'Longley, Miss. Gretchen Fiske',\n",
              "       'Bostandyeff, Mr. Guentcho', \"O'Connell, Mr. Patrick D\",\n",
              "       'Barkworth, Mr. Algernon Henry Wilson',\n",
              "       'Lundahl, Mr. Johan Svensson', 'Stahelin-Maeglin, Dr. Max',\n",
              "       'Parr, Mr. William Henry Marsh', 'Skoog, Miss. Mabel',\n",
              "       'Davis, Miss. Mary', 'Leinonen, Mr. Antti Gustaf',\n",
              "       'Collyer, Mr. Harvey', 'Panula, Mrs. Juha (Maria Emilia Ojala)',\n",
              "       'Thorneycroft, Mr. Percival', 'Jensen, Mr. Hans Peder',\n",
              "       'Sagesser, Mlle. Emma', 'Skoog, Miss. Margit Elizabeth',\n",
              "       'Foo, Mr. Choong', 'Baclini, Miss. Eugenie',\n",
              "       'Harper, Mr. Henry Sleeper', 'Cor, Mr. Liudevit',\n",
              "       'Simonius-Blumer, Col. Oberst Alfons', 'Willey, Mr. Edward',\n",
              "       'Stanley, Miss. Amy Zillah Elsie', 'Mitkoff, Mr. Mito',\n",
              "       'Doling, Miss. Elsie', 'Kalvik, Mr. Johannes Halvorsen',\n",
              "       'O\\'Leary, Miss. Hanora \"Norah\"', 'Hegarty, Miss. Hanora \"Nora\"',\n",
              "       'Hickman, Mr. Leonard Mark', 'Radeff, Mr. Alexander',\n",
              "       'Bourke, Mrs. John (Catherine)', 'Eitemiller, Mr. George Floyd',\n",
              "       'Newell, Mr. Arthur Webster', 'Frauenthal, Dr. Henry William',\n",
              "       'Badt, Mr. Mohamed', 'Colley, Mr. Edward Pomeroy',\n",
              "       'Coleff, Mr. Peju', 'Lindqvist, Mr. Eino William',\n",
              "       'Hickman, Mr. Lewis', 'Butler, Mr. Reginald Fenton',\n",
              "       'Rommetvedt, Mr. Knud Paust', 'Cook, Mr. Jacob',\n",
              "       'Taylor, Mrs. Elmer Zebley (Juliet Cummins Wright)',\n",
              "       'Brown, Mrs. Thomas William Solomon (Elizabeth Catherine Ford)',\n",
              "       'Davidson, Mr. Thornton', 'Mitchell, Mr. Henry Michael',\n",
              "       'Wilhelms, Mr. Charles', 'Watson, Mr. Ennis Hastings',\n",
              "       'Edvardsson, Mr. Gustaf Hjalmar', 'Sawyer, Mr. Frederick Charles',\n",
              "       'Turja, Miss. Anna Sofia',\n",
              "       'Goodwin, Mrs. Frederick (Augusta Tyler)',\n",
              "       'Cardeza, Mr. Thomas Drake Martinez', 'Peters, Miss. Katie',\n",
              "       'Hassab, Mr. Hammad', 'Olsvigen, Mr. Thor Anderson',\n",
              "       'Goodwin, Mr. Charles Edward', 'Brown, Mr. Thomas William Solomon',\n",
              "       'Laroche, Mr. Joseph Philippe Lemercier',\n",
              "       'Panula, Mr. Jaako Arnold', 'Dakic, Mr. Branko',\n",
              "       'Fischer, Mr. Eberhard Thelander',\n",
              "       'Madill, Miss. Georgette Alexandra', 'Dick, Mr. Albert Adrian',\n",
              "       'Karun, Miss. Manca', 'Lam, Mr. Ali', 'Saad, Mr. Khalil',\n",
              "       'Weir, Col. John', 'Chapman, Mr. Charles Henry',\n",
              "       'Kelly, Mr. James', 'Mullens, Miss. Katherine \"Katie\"',\n",
              "       'Thayer, Mr. John Borland',\n",
              "       'Humblen, Mr. Adolf Mathias Nicolai Olsen',\n",
              "       'Astor, Mrs. John Jacob (Madeleine Talmadge Force)',\n",
              "       'Silverthorne, Mr. Spencer Victor', 'Barbara, Miss. Saiide',\n",
              "       'Gallagher, Mr. Martin', 'Hansen, Mr. Henrik Juul',\n",
              "       'Morley, Mr. Henry Samuel (\"Mr Henry Marshall\")',\n",
              "       'Kelly, Mrs. Florence \"Fannie\"',\n",
              "       'Calderhead, Mr. Edward Pennington', 'Cleaver, Miss. Alice',\n",
              "       'Moubarek, Master. Halim Gonios (\"William George\")',\n",
              "       'Mayne, Mlle. Berthe Antonine (\"Mrs de Villiers\")',\n",
              "       'Klaber, Mr. Herman', 'Taylor, Mr. Elmer Zebley',\n",
              "       'Larsson, Mr. August Viktor', 'Greenberg, Mr. Samuel',\n",
              "       'Soholt, Mr. Peter Andreas Lauritz Andersen',\n",
              "       'Endres, Miss. Caroline Louise',\n",
              "       'Troutt, Miss. Edwina Celia \"Winnie\"', 'McEvoy, Mr. Michael',\n",
              "       'Johnson, Mr. Malkolm Joackim',\n",
              "       'Harper, Miss. Annie Jessie \"Nina\"', 'Jensen, Mr. Svend Lauritz',\n",
              "       'Gillespie, Mr. William Henry', 'Hodges, Mr. Henry Price',\n",
              "       'Chambers, Mr. Norman Campbell', 'Oreskovic, Mr. Luka',\n",
              "       'Renouf, Mrs. Peter Henry (Lillian Jefferys)',\n",
              "       'Mannion, Miss. Margareth', 'Bryhl, Mr. Kurt Arnold Gottfrid',\n",
              "       'Ilmakangas, Miss. Pieta Sofia', 'Allen, Miss. Elisabeth Walton',\n",
              "       'Hassan, Mr. Houssein G N', 'Knight, Mr. Robert J',\n",
              "       'Berriman, Mr. William John', 'Troupiansky, Mr. Moses Aaron',\n",
              "       'Williams, Mr. Leslie', 'Ford, Mrs. Edward (Margaret Ann Watson)',\n",
              "       'Lesurer, Mr. Gustave J', 'Ivanoff, Mr. Kanio',\n",
              "       'Nankoff, Mr. Minko', 'Hawksford, Mr. Walter James',\n",
              "       'Cavendish, Mr. Tyrell William',\n",
              "       'Ryerson, Miss. Susan Parker \"Suzette\"', 'McNamee, Mr. Neal',\n",
              "       'Stranden, Mr. Juho', 'Crosby, Capt. Edward Gifford',\n",
              "       'Abbott, Mr. Rossmore Edward', 'Sinkkonen, Miss. Anna',\n",
              "       'Marvin, Mr. Daniel Warner', 'Connaghton, Mr. Michael',\n",
              "       'Wells, Miss. Joan', 'Moor, Master. Meier',\n",
              "       'Vande Velde, Mr. Johannes Joseph', 'Jonkoff, Mr. Lalio',\n",
              "       'Herman, Mrs. Samuel (Jane Laver)', 'Hamalainen, Master. Viljo',\n",
              "       'Carlsson, Mr. August Sigfrid', 'Bailey, Mr. Percy Andrew',\n",
              "       'Theobald, Mr. Thomas Leonard',\n",
              "       'Rothes, the Countess. of (Lucy Noel Martha Dyer-Edwards)',\n",
              "       'Garfirth, Mr. John', 'Nirva, Mr. Iisakki Antino Aijo',\n",
              "       'Barah, Mr. Hanna Assi',\n",
              "       'Carter, Mrs. William Ernest (Lucile Polk)',\n",
              "       'Eklund, Mr. Hans Linus', 'Hogeboom, Mrs. John C (Anna Andrews)',\n",
              "       'Brewe, Dr. Arthur Jackson', 'Mangan, Miss. Mary',\n",
              "       'Moran, Mr. Daniel J', 'Gronnestad, Mr. Daniel Danielsen',\n",
              "       'Lievens, Mr. Rene Aime', 'Jensen, Mr. Niels Peder',\n",
              "       'Mack, Mrs. (Mary)', 'Elias, Mr. Dibo',\n",
              "       'Hocking, Mrs. Elizabeth (Eliza Needs)',\n",
              "       'Myhrman, Mr. Pehr Fabian Oliver Malkolm', 'Tobin, Mr. Roger',\n",
              "       'Emanuel, Miss. Virginia Ethel', 'Kilgannon, Mr. Thomas J',\n",
              "       'Robert, Mrs. Edward Scott (Elisabeth Walton McMillan)',\n",
              "       'Ayoub, Miss. Banoura',\n",
              "       'Dick, Mrs. Albert Adrian (Vera Gillespie)',\n",
              "       'Long, Mr. Milton Clyde', 'Johnston, Mr. Andrew G',\n",
              "       'Ali, Mr. William', 'Harmer, Mr. Abraham (David Lishin)',\n",
              "       'Sjoblom, Miss. Anna Sofia', 'Rice, Master. George Hugh',\n",
              "       'Dean, Master. Bertram Vere', 'Guggenheim, Mr. Benjamin',\n",
              "       'Keane, Mr. Andrew \"Andy\"', 'Gaskell, Mr. Alfred',\n",
              "       'Sage, Miss. Stella Anna', 'Hoyt, Mr. William Fisher',\n",
              "       'Dantcheff, Mr. Ristiu', 'Otter, Mr. Richard',\n",
              "       'Leader, Dr. Alice (Farnham)', 'Osman, Mrs. Mara',\n",
              "       'Ibrahim Shawah, Mr. Yousseff',\n",
              "       'Van Impe, Mrs. Jean Baptiste (Rosalie Paula Govaert)',\n",
              "       'Ponesell, Mr. Martin',\n",
              "       'Collyer, Mrs. Harvey (Charlotte Annie Tate)',\n",
              "       'Carter, Master. William Thornton II',\n",
              "       'Thomas, Master. Assad Alexander', 'Hedman, Mr. Oskar Arvid',\n",
              "       'Johansson, Mr. Karl Johan', 'Andrews, Mr. Thomas Jr',\n",
              "       'Pettersson, Miss. Ellen Natalia', 'Meyer, Mr. August',\n",
              "       'Chambers, Mrs. Norman Campbell (Bertha Griggs)',\n",
              "       'Alexander, Mr. William', 'Lester, Mr. James',\n",
              "       'Slemen, Mr. Richard James', 'Andersson, Miss. Ebba Iris Alfrida',\n",
              "       'Tomlin, Mr. Ernest Portage', 'Fry, Mr. Richard',\n",
              "       'Heininen, Miss. Wendla Maria', 'Mallet, Mr. Albert',\n",
              "       'Holm, Mr. John Fredrik Alexander', 'Skoog, Master. Karl Thorsten',\n",
              "       'Hays, Mrs. Charles Melville (Clara Jennings Gregg)',\n",
              "       'Lulic, Mr. Nikola', 'Reuchlin, Jonkheer. John George',\n",
              "       'Moor, Mrs. (Beila)', 'Panula, Master. Urho Abraham',\n",
              "       'Flynn, Mr. John', 'Lam, Mr. Len', 'Mallet, Master. Andre',\n",
              "       'McCormack, Mr. Thomas Joseph',\n",
              "       'Stone, Mrs. George Nelson (Martha Evelyn)',\n",
              "       'Yasbeck, Mrs. Antoni (Selini Alexander)',\n",
              "       'Richards, Master. George Sibley', 'Saad, Mr. Amin',\n",
              "       'Augustsson, Mr. Albert', 'Allum, Mr. Owen George',\n",
              "       'Compton, Miss. Sara Rebecca', 'Pasic, Mr. Jakob',\n",
              "       'Sirota, Mr. Maurice', 'Chip, Mr. Chang', 'Marechal, Mr. Pierre',\n",
              "       'Alhomaki, Mr. Ilmari Rudolf', 'Mudd, Mr. Thomas Charles',\n",
              "       'Serepeca, Miss. Augusta', 'Lemberopolous, Mr. Peter L',\n",
              "       'Culumovic, Mr. Jeso', 'Abbing, Mr. Anthony',\n",
              "       'Sage, Mr. Douglas Bullen', 'Markoff, Mr. Marin',\n",
              "       'Harper, Rev. John',\n",
              "       'Goldenberg, Mrs. Samuel L (Edwiga Grabowska)',\n",
              "       'Andersson, Master. Sigvard Harald Elias', 'Svensson, Mr. Johan',\n",
              "       'Boulos, Miss. Nourelain', 'Lines, Miss. Mary Conover',\n",
              "       'Carter, Mrs. Ernest Courtenay (Lilian Hughes)',\n",
              "       'Aks, Mrs. Sam (Leah Rosen)',\n",
              "       'Wick, Mrs. George Dennick (Mary Hitchcock)',\n",
              "       'Daly, Mr. Peter Denis ', 'Baclini, Mrs. Solomon (Latifa Qurban)',\n",
              "       'Razi, Mr. Raihed', 'Hansen, Mr. Claus Peter',\n",
              "       'Giles, Mr. Frederick Edward',\n",
              "       'Swift, Mrs. Frederick Joel (Margaret Welles Barron)',\n",
              "       'Sage, Miss. Dorothy Edith \"Dolly\"', 'Gill, Mr. John William',\n",
              "       'Bystrom, Mrs. (Karolina)', 'Duran y More, Miss. Asuncion',\n",
              "       'Roebling, Mr. Washington Augustus II',\n",
              "       'van Melkebeke, Mr. Philemon', 'Johnson, Master. Harold Theodor',\n",
              "       'Balkic, Mr. Cerin',\n",
              "       'Beckwith, Mrs. Richard Leonard (Sallie Monypeny)',\n",
              "       'Carlsson, Mr. Frans Olof', 'Vander Cruyssen, Mr. Victor',\n",
              "       'Abelson, Mrs. Samuel (Hannah Wizosky)',\n",
              "       'Najib, Miss. Adele Kiamie \"Jane\"',\n",
              "       'Gustafsson, Mr. Alfred Ossian', 'Petroff, Mr. Nedelio',\n",
              "       'Laleff, Mr. Kristo',\n",
              "       'Potter, Mrs. Thomas Jr (Lily Alexenia Wilson)',\n",
              "       'Shelley, Mrs. William (Imanita Parrish Hall)',\n",
              "       'Markun, Mr. Johann', 'Dahlberg, Miss. Gerda Ulrika',\n",
              "       'Banfield, Mr. Frederick James', 'Sutehall, Mr. Henry Jr',\n",
              "       'Rice, Mrs. William (Margaret Norton)', 'Montvila, Rev. Juozas',\n",
              "       'Graham, Miss. Margaret Edith',\n",
              "       'Johnston, Miss. Catherine Helen \"Carrie\"',\n",
              "       'Behr, Mr. Karl Howell', 'Dooley, Mr. Patrick'], dtype=object)"
            ]
          },
          "metadata": {
            "tags": []
          },
          "execution_count": 14
        }
      ]
    },
    {
      "cell_type": "code",
      "metadata": {
        "id": "9Wt0Q6fHmjNo"
      },
      "source": [
        "train_data['Title']=0\n",
        "train_data['Title']=train_data.Name.str.extract('([A-Za-z]+)\\.') #lets extract the Salutations\n",
        "train_data['Title'].replace(['Mlle','Mme','Ms','Dr','Major','Lady','Countess','Jonkheer','Col','Rev','Capt','Sir','Don'],['Miss','Miss','Miss','Mr','Mr','Mrs','Mrs','Other','Other','Other','Mr','Mr','Mr'],inplace=True)"
      ],
      "execution_count": null,
      "outputs": []
    },
    {
      "cell_type": "code",
      "metadata": {
        "id": "Uf6ifsZ1mrx5"
      },
      "source": [
        "train_data['Name_length'] = train_data['Name'].apply(len)"
      ],
      "execution_count": null,
      "outputs": []
    },
    {
      "cell_type": "code",
      "metadata": {
        "id": "IxRC1iACmvOd",
        "outputId": "6a590a70-503b-4684-9bb4-43c4537ec70d",
        "colab": {
          "base_uri": "https://localhost:8080/",
          "height": 246
        }
      },
      "source": [
        "train_data.head()"
      ],
      "execution_count": null,
      "outputs": [
        {
          "output_type": "execute_result",
          "data": {
            "text/html": [
              "<div>\n",
              "<style scoped>\n",
              "    .dataframe tbody tr th:only-of-type {\n",
              "        vertical-align: middle;\n",
              "    }\n",
              "\n",
              "    .dataframe tbody tr th {\n",
              "        vertical-align: top;\n",
              "    }\n",
              "\n",
              "    .dataframe thead th {\n",
              "        text-align: right;\n",
              "    }\n",
              "</style>\n",
              "<table border=\"1\" class=\"dataframe\">\n",
              "  <thead>\n",
              "    <tr style=\"text-align: right;\">\n",
              "      <th></th>\n",
              "      <th>PassengerId</th>\n",
              "      <th>Survived</th>\n",
              "      <th>Pclass</th>\n",
              "      <th>Name</th>\n",
              "      <th>Sex</th>\n",
              "      <th>Age</th>\n",
              "      <th>SibSp</th>\n",
              "      <th>Parch</th>\n",
              "      <th>Ticket</th>\n",
              "      <th>Fare</th>\n",
              "      <th>Cabin</th>\n",
              "      <th>Embarked</th>\n",
              "      <th>Title</th>\n",
              "      <th>Name_length</th>\n",
              "    </tr>\n",
              "  </thead>\n",
              "  <tbody>\n",
              "    <tr>\n",
              "      <th>0</th>\n",
              "      <td>1</td>\n",
              "      <td>0</td>\n",
              "      <td>3</td>\n",
              "      <td>Braund, Mr. Owen Harris</td>\n",
              "      <td>male</td>\n",
              "      <td>22.0</td>\n",
              "      <td>1</td>\n",
              "      <td>0</td>\n",
              "      <td>A/5 21171</td>\n",
              "      <td>7.2500</td>\n",
              "      <td>NaN</td>\n",
              "      <td>S</td>\n",
              "      <td>Mr</td>\n",
              "      <td>23</td>\n",
              "    </tr>\n",
              "    <tr>\n",
              "      <th>1</th>\n",
              "      <td>2</td>\n",
              "      <td>1</td>\n",
              "      <td>1</td>\n",
              "      <td>Cumings, Mrs. John Bradley (Florence Briggs Th...</td>\n",
              "      <td>female</td>\n",
              "      <td>38.0</td>\n",
              "      <td>1</td>\n",
              "      <td>0</td>\n",
              "      <td>PC 17599</td>\n",
              "      <td>71.2833</td>\n",
              "      <td>C85</td>\n",
              "      <td>C</td>\n",
              "      <td>Mrs</td>\n",
              "      <td>51</td>\n",
              "    </tr>\n",
              "    <tr>\n",
              "      <th>2</th>\n",
              "      <td>3</td>\n",
              "      <td>1</td>\n",
              "      <td>3</td>\n",
              "      <td>Heikkinen, Miss. Laina</td>\n",
              "      <td>female</td>\n",
              "      <td>26.0</td>\n",
              "      <td>0</td>\n",
              "      <td>0</td>\n",
              "      <td>STON/O2. 3101282</td>\n",
              "      <td>7.9250</td>\n",
              "      <td>NaN</td>\n",
              "      <td>S</td>\n",
              "      <td>Miss</td>\n",
              "      <td>22</td>\n",
              "    </tr>\n",
              "    <tr>\n",
              "      <th>3</th>\n",
              "      <td>4</td>\n",
              "      <td>1</td>\n",
              "      <td>1</td>\n",
              "      <td>Futrelle, Mrs. Jacques Heath (Lily May Peel)</td>\n",
              "      <td>female</td>\n",
              "      <td>35.0</td>\n",
              "      <td>1</td>\n",
              "      <td>0</td>\n",
              "      <td>113803</td>\n",
              "      <td>53.1000</td>\n",
              "      <td>C123</td>\n",
              "      <td>S</td>\n",
              "      <td>Mrs</td>\n",
              "      <td>44</td>\n",
              "    </tr>\n",
              "    <tr>\n",
              "      <th>4</th>\n",
              "      <td>5</td>\n",
              "      <td>0</td>\n",
              "      <td>3</td>\n",
              "      <td>Allen, Mr. William Henry</td>\n",
              "      <td>male</td>\n",
              "      <td>35.0</td>\n",
              "      <td>0</td>\n",
              "      <td>0</td>\n",
              "      <td>373450</td>\n",
              "      <td>8.0500</td>\n",
              "      <td>NaN</td>\n",
              "      <td>S</td>\n",
              "      <td>Mr</td>\n",
              "      <td>24</td>\n",
              "    </tr>\n",
              "  </tbody>\n",
              "</table>\n",
              "</div>"
            ],
            "text/plain": [
              "   PassengerId  Survived  Pclass  ... Embarked Title  Name_length\n",
              "0            1         0       3  ...        S    Mr           23\n",
              "1            2         1       1  ...        C   Mrs           51\n",
              "2            3         1       3  ...        S  Miss           22\n",
              "3            4         1       1  ...        S   Mrs           44\n",
              "4            5         0       3  ...        S    Mr           24\n",
              "\n",
              "[5 rows x 14 columns]"
            ]
          },
          "metadata": {
            "tags": []
          },
          "execution_count": 17
        }
      ]
    },
    {
      "cell_type": "code",
      "metadata": {
        "id": "FEB4vTVimznR"
      },
      "source": [
        "train_data.loc[(train_data.Age.isnull())&(train_data.Title=='Mr'),'Age']= train_data.Age[train_data.Title==\"Mr\"].mean()\n",
        "train_data.loc[(train_data.Age.isnull())&(train_data.Title=='Mrs'),'Age']= train_data.Age[train_data.Title==\"Mrs\"].mean()\n",
        "train_data.loc[(train_data.Age.isnull())&(train_data.Title=='Master'),'Age']= train_data.Age[train_data.Title==\"Master\"].mean()\n",
        "train_data.loc[(train_data.Age.isnull())&(train_data.Title=='Miss'),'Age']= train_data.Age[train_data.Title==\"Miss\"].mean()\n",
        "train_data.loc[(train_data.Age.isnull())&(train_data.Title=='Other'),'Age']= train_data.Age[train_data.Title==\"Other\"].mean()\n"
      ],
      "execution_count": null,
      "outputs": []
    },
    {
      "cell_type": "code",
      "metadata": {
        "id": "HER-oRbZm4TN",
        "outputId": "539b3646-a340-40a6-828f-50ea1a1c3bef",
        "colab": {
          "base_uri": "https://localhost:8080/",
          "height": 281
        }
      },
      "source": [
        "train_data.isnull().sum()"
      ],
      "execution_count": null,
      "outputs": [
        {
          "output_type": "execute_result",
          "data": {
            "text/plain": [
              "PassengerId      0\n",
              "Survived         0\n",
              "Pclass           0\n",
              "Name             0\n",
              "Sex              0\n",
              "Age              0\n",
              "SibSp            0\n",
              "Parch            0\n",
              "Ticket           0\n",
              "Fare             0\n",
              "Cabin          687\n",
              "Embarked         2\n",
              "Title            0\n",
              "Name_length      0\n",
              "dtype: int64"
            ]
          },
          "metadata": {
            "tags": []
          },
          "execution_count": 19
        }
      ]
    },
    {
      "cell_type": "code",
      "metadata": {
        "id": "dUFdECNkm8NA",
        "outputId": "875d37b7-b0fc-407a-85e6-8e565a21cff5",
        "colab": {
          "base_uri": "https://localhost:8080/",
          "height": 351
        }
      },
      "source": [
        "train_data.Age.unique()"
      ],
      "execution_count": null,
      "outputs": [
        {
          "output_type": "execute_result",
          "data": {
            "text/plain": [
              "array([22.        , 38.        , 26.        , 35.        , 32.7396088 ,\n",
              "       54.        ,  2.        , 27.        , 14.        ,  4.        ,\n",
              "       58.        , 20.        , 39.        , 55.        , 31.        ,\n",
              "       35.98181818, 34.        , 15.        , 28.        ,  8.        ,\n",
              "       19.        , 21.86      , 40.        , 66.        , 42.        ,\n",
              "       21.        , 18.        ,  3.        ,  7.        , 49.        ,\n",
              "       29.        , 65.        , 28.5       ,  5.        , 11.        ,\n",
              "       45.        ,  4.57416667, 17.        , 32.        , 16.        ,\n",
              "       25.        ,  0.83      , 30.        , 33.        , 23.        ,\n",
              "       24.        , 46.        , 59.        , 71.        , 37.        ,\n",
              "       47.        , 14.5       , 70.5       , 32.5       , 12.        ,\n",
              "        9.        , 36.5       , 51.        , 55.5       , 40.5       ,\n",
              "       44.        ,  1.        , 61.        , 56.        , 50.        ,\n",
              "       36.        , 45.5       , 20.5       , 62.        , 41.        ,\n",
              "       52.        , 63.        , 23.5       ,  0.92      , 43.        ,\n",
              "       60.        , 10.        , 64.        , 13.        , 48.        ,\n",
              "        0.75      , 53.        , 57.        , 80.        , 70.        ,\n",
              "       24.5       ,  6.        ,  0.67      , 30.5       ,  0.42      ,\n",
              "       34.5       , 74.        ])"
            ]
          },
          "metadata": {
            "tags": []
          },
          "execution_count": 20
        }
      ]
    },
    {
      "cell_type": "code",
      "metadata": {
        "id": "Uk9T3LPunAWr",
        "outputId": "980ad6ee-b846-4fac-a4ad-31288da0e3fd",
        "colab": {
          "base_uri": "https://localhost:8080/",
          "height": 34
        }
      },
      "source": [
        "train_data.shape"
      ],
      "execution_count": null,
      "outputs": [
        {
          "output_type": "execute_result",
          "data": {
            "text/plain": [
              "(891, 14)"
            ]
          },
          "metadata": {
            "tags": []
          },
          "execution_count": 21
        }
      ]
    },
    {
      "cell_type": "code",
      "metadata": {
        "id": "_wRvscB7nDSf"
      },
      "source": [
        "train_data=train_data.dropna(subset=['Age','Embarked'])"
      ],
      "execution_count": null,
      "outputs": []
    },
    {
      "cell_type": "code",
      "metadata": {
        "id": "-9M49QCDnGdb",
        "outputId": "70ce75f4-49bb-48a5-ac71-eb8f3f4930d5",
        "colab": {
          "base_uri": "https://localhost:8080/",
          "height": 281
        }
      },
      "source": [
        "train_data.isnull().sum()"
      ],
      "execution_count": null,
      "outputs": [
        {
          "output_type": "execute_result",
          "data": {
            "text/plain": [
              "PassengerId      0\n",
              "Survived         0\n",
              "Pclass           0\n",
              "Name             0\n",
              "Sex              0\n",
              "Age              0\n",
              "SibSp            0\n",
              "Parch            0\n",
              "Ticket           0\n",
              "Fare             0\n",
              "Cabin          687\n",
              "Embarked         0\n",
              "Title            0\n",
              "Name_length      0\n",
              "dtype: int64"
            ]
          },
          "metadata": {
            "tags": []
          },
          "execution_count": 23
        }
      ]
    },
    {
      "cell_type": "code",
      "metadata": {
        "id": "y_94XZOWnMCG",
        "outputId": "221b20c4-b33b-4d80-9fa6-50a337adc00b",
        "colab": {
          "base_uri": "https://localhost:8080/",
          "height": 34
        }
      },
      "source": [
        "train_data.shape"
      ],
      "execution_count": null,
      "outputs": [
        {
          "output_type": "execute_result",
          "data": {
            "text/plain": [
              "(889, 14)"
            ]
          },
          "metadata": {
            "tags": []
          },
          "execution_count": 24
        }
      ]
    },
    {
      "cell_type": "code",
      "metadata": {
        "id": "E_joLDOKnP80"
      },
      "source": [
        "xtrain_data = train_data.drop(['Cabin','Ticket','Name'], axis =1 )"
      ],
      "execution_count": null,
      "outputs": []
    },
    {
      "cell_type": "code",
      "metadata": {
        "id": "cuHnbRU5nWLe",
        "outputId": "989a3089-c0c1-45ba-c98f-2aef854ba1d4",
        "colab": {
          "base_uri": "https://localhost:8080/",
          "height": 34
        }
      },
      "source": [
        "xtrain_data.Parch.unique()"
      ],
      "execution_count": null,
      "outputs": [
        {
          "output_type": "execute_result",
          "data": {
            "text/plain": [
              "array([0, 1, 2, 5, 3, 4, 6])"
            ]
          },
          "metadata": {
            "tags": []
          },
          "execution_count": 26
        }
      ]
    },
    {
      "cell_type": "code",
      "metadata": {
        "id": "oLEW-XvtncC3"
      },
      "source": [
        "Ticketclass = {3:\"lower_class\",2:'middle_class',1:'upper_class'}\n",
        "xtrain_data['Pclass'] = xtrain_data['Pclass'].map(Ticketclass)"
      ],
      "execution_count": null,
      "outputs": []
    },
    {
      "cell_type": "code",
      "metadata": {
        "id": "o-p6nlq8ne7Y",
        "outputId": "b4930a41-baca-4650-cd01-9d67f493d192",
        "colab": {
          "base_uri": "https://localhost:8080/",
          "height": 34
        }
      },
      "source": [
        "xtrain_data.Pclass.unique()"
      ],
      "execution_count": null,
      "outputs": [
        {
          "output_type": "execute_result",
          "data": {
            "text/plain": [
              "array(['lower_class', 'upper_class', 'middle_class'], dtype=object)"
            ]
          },
          "metadata": {
            "tags": []
          },
          "execution_count": 28
        }
      ]
    },
    {
      "cell_type": "code",
      "metadata": {
        "id": "N8Fxow_1njrx"
      },
      "source": [
        "train_titan = xtrain_data"
      ],
      "execution_count": null,
      "outputs": []
    },
    {
      "cell_type": "code",
      "metadata": {
        "id": "DB0k7gXGnooi",
        "outputId": "ad4472a7-0fb5-4553-e469-27126ce257ea",
        "colab": {
          "base_uri": "https://localhost:8080/",
          "height": 195
        }
      },
      "source": [
        "train_titan.head()"
      ],
      "execution_count": null,
      "outputs": [
        {
          "output_type": "execute_result",
          "data": {
            "text/html": [
              "<div>\n",
              "<style scoped>\n",
              "    .dataframe tbody tr th:only-of-type {\n",
              "        vertical-align: middle;\n",
              "    }\n",
              "\n",
              "    .dataframe tbody tr th {\n",
              "        vertical-align: top;\n",
              "    }\n",
              "\n",
              "    .dataframe thead th {\n",
              "        text-align: right;\n",
              "    }\n",
              "</style>\n",
              "<table border=\"1\" class=\"dataframe\">\n",
              "  <thead>\n",
              "    <tr style=\"text-align: right;\">\n",
              "      <th></th>\n",
              "      <th>PassengerId</th>\n",
              "      <th>Survived</th>\n",
              "      <th>Pclass</th>\n",
              "      <th>Sex</th>\n",
              "      <th>Age</th>\n",
              "      <th>SibSp</th>\n",
              "      <th>Parch</th>\n",
              "      <th>Fare</th>\n",
              "      <th>Embarked</th>\n",
              "      <th>Title</th>\n",
              "      <th>Name_length</th>\n",
              "    </tr>\n",
              "  </thead>\n",
              "  <tbody>\n",
              "    <tr>\n",
              "      <th>0</th>\n",
              "      <td>1</td>\n",
              "      <td>0</td>\n",
              "      <td>lower_class</td>\n",
              "      <td>male</td>\n",
              "      <td>22.0</td>\n",
              "      <td>1</td>\n",
              "      <td>0</td>\n",
              "      <td>7.2500</td>\n",
              "      <td>S</td>\n",
              "      <td>Mr</td>\n",
              "      <td>23</td>\n",
              "    </tr>\n",
              "    <tr>\n",
              "      <th>1</th>\n",
              "      <td>2</td>\n",
              "      <td>1</td>\n",
              "      <td>upper_class</td>\n",
              "      <td>female</td>\n",
              "      <td>38.0</td>\n",
              "      <td>1</td>\n",
              "      <td>0</td>\n",
              "      <td>71.2833</td>\n",
              "      <td>C</td>\n",
              "      <td>Mrs</td>\n",
              "      <td>51</td>\n",
              "    </tr>\n",
              "    <tr>\n",
              "      <th>2</th>\n",
              "      <td>3</td>\n",
              "      <td>1</td>\n",
              "      <td>lower_class</td>\n",
              "      <td>female</td>\n",
              "      <td>26.0</td>\n",
              "      <td>0</td>\n",
              "      <td>0</td>\n",
              "      <td>7.9250</td>\n",
              "      <td>S</td>\n",
              "      <td>Miss</td>\n",
              "      <td>22</td>\n",
              "    </tr>\n",
              "    <tr>\n",
              "      <th>3</th>\n",
              "      <td>4</td>\n",
              "      <td>1</td>\n",
              "      <td>upper_class</td>\n",
              "      <td>female</td>\n",
              "      <td>35.0</td>\n",
              "      <td>1</td>\n",
              "      <td>0</td>\n",
              "      <td>53.1000</td>\n",
              "      <td>S</td>\n",
              "      <td>Mrs</td>\n",
              "      <td>44</td>\n",
              "    </tr>\n",
              "    <tr>\n",
              "      <th>4</th>\n",
              "      <td>5</td>\n",
              "      <td>0</td>\n",
              "      <td>lower_class</td>\n",
              "      <td>male</td>\n",
              "      <td>35.0</td>\n",
              "      <td>0</td>\n",
              "      <td>0</td>\n",
              "      <td>8.0500</td>\n",
              "      <td>S</td>\n",
              "      <td>Mr</td>\n",
              "      <td>24</td>\n",
              "    </tr>\n",
              "  </tbody>\n",
              "</table>\n",
              "</div>"
            ],
            "text/plain": [
              "   PassengerId  Survived       Pclass  ... Embarked  Title  Name_length\n",
              "0            1         0  lower_class  ...        S     Mr           23\n",
              "1            2         1  upper_class  ...        C    Mrs           51\n",
              "2            3         1  lower_class  ...        S   Miss           22\n",
              "3            4         1  upper_class  ...        S    Mrs           44\n",
              "4            5         0  lower_class  ...        S     Mr           24\n",
              "\n",
              "[5 rows x 11 columns]"
            ]
          },
          "metadata": {
            "tags": []
          },
          "execution_count": 30
        }
      ]
    },
    {
      "cell_type": "code",
      "metadata": {
        "id": "Nn2CVCjtnswL"
      },
      "source": [
        "train_dummy = pd.get_dummies(train_titan[['Pclass','Sex','Embarked']],)"
      ],
      "execution_count": null,
      "outputs": []
    },
    {
      "cell_type": "code",
      "metadata": {
        "id": "vKP1xoePnyfD"
      },
      "source": [
        "train_titan=pd.concat([train_titan.drop(['Pclass','Sex','Embarked'],axis=1),train_dummy],axis=1)"
      ],
      "execution_count": null,
      "outputs": []
    },
    {
      "cell_type": "code",
      "metadata": {
        "id": "0kRvAyccn2W1",
        "outputId": "f9525a1d-9414-42a9-d396-14c238d032b6",
        "colab": {
          "base_uri": "https://localhost:8080/",
          "height": 215
        }
      },
      "source": [
        "train_titan.head()"
      ],
      "execution_count": null,
      "outputs": [
        {
          "output_type": "execute_result",
          "data": {
            "text/html": [
              "<div>\n",
              "<style scoped>\n",
              "    .dataframe tbody tr th:only-of-type {\n",
              "        vertical-align: middle;\n",
              "    }\n",
              "\n",
              "    .dataframe tbody tr th {\n",
              "        vertical-align: top;\n",
              "    }\n",
              "\n",
              "    .dataframe thead th {\n",
              "        text-align: right;\n",
              "    }\n",
              "</style>\n",
              "<table border=\"1\" class=\"dataframe\">\n",
              "  <thead>\n",
              "    <tr style=\"text-align: right;\">\n",
              "      <th></th>\n",
              "      <th>PassengerId</th>\n",
              "      <th>Survived</th>\n",
              "      <th>Age</th>\n",
              "      <th>SibSp</th>\n",
              "      <th>Parch</th>\n",
              "      <th>Fare</th>\n",
              "      <th>Title</th>\n",
              "      <th>Name_length</th>\n",
              "      <th>Pclass_lower_class</th>\n",
              "      <th>Pclass_middle_class</th>\n",
              "      <th>Pclass_upper_class</th>\n",
              "      <th>Sex_female</th>\n",
              "      <th>Sex_male</th>\n",
              "      <th>Embarked_C</th>\n",
              "      <th>Embarked_Q</th>\n",
              "      <th>Embarked_S</th>\n",
              "    </tr>\n",
              "  </thead>\n",
              "  <tbody>\n",
              "    <tr>\n",
              "      <th>0</th>\n",
              "      <td>1</td>\n",
              "      <td>0</td>\n",
              "      <td>22.0</td>\n",
              "      <td>1</td>\n",
              "      <td>0</td>\n",
              "      <td>7.2500</td>\n",
              "      <td>Mr</td>\n",
              "      <td>23</td>\n",
              "      <td>1</td>\n",
              "      <td>0</td>\n",
              "      <td>0</td>\n",
              "      <td>0</td>\n",
              "      <td>1</td>\n",
              "      <td>0</td>\n",
              "      <td>0</td>\n",
              "      <td>1</td>\n",
              "    </tr>\n",
              "    <tr>\n",
              "      <th>1</th>\n",
              "      <td>2</td>\n",
              "      <td>1</td>\n",
              "      <td>38.0</td>\n",
              "      <td>1</td>\n",
              "      <td>0</td>\n",
              "      <td>71.2833</td>\n",
              "      <td>Mrs</td>\n",
              "      <td>51</td>\n",
              "      <td>0</td>\n",
              "      <td>0</td>\n",
              "      <td>1</td>\n",
              "      <td>1</td>\n",
              "      <td>0</td>\n",
              "      <td>1</td>\n",
              "      <td>0</td>\n",
              "      <td>0</td>\n",
              "    </tr>\n",
              "    <tr>\n",
              "      <th>2</th>\n",
              "      <td>3</td>\n",
              "      <td>1</td>\n",
              "      <td>26.0</td>\n",
              "      <td>0</td>\n",
              "      <td>0</td>\n",
              "      <td>7.9250</td>\n",
              "      <td>Miss</td>\n",
              "      <td>22</td>\n",
              "      <td>1</td>\n",
              "      <td>0</td>\n",
              "      <td>0</td>\n",
              "      <td>1</td>\n",
              "      <td>0</td>\n",
              "      <td>0</td>\n",
              "      <td>0</td>\n",
              "      <td>1</td>\n",
              "    </tr>\n",
              "    <tr>\n",
              "      <th>3</th>\n",
              "      <td>4</td>\n",
              "      <td>1</td>\n",
              "      <td>35.0</td>\n",
              "      <td>1</td>\n",
              "      <td>0</td>\n",
              "      <td>53.1000</td>\n",
              "      <td>Mrs</td>\n",
              "      <td>44</td>\n",
              "      <td>0</td>\n",
              "      <td>0</td>\n",
              "      <td>1</td>\n",
              "      <td>1</td>\n",
              "      <td>0</td>\n",
              "      <td>0</td>\n",
              "      <td>0</td>\n",
              "      <td>1</td>\n",
              "    </tr>\n",
              "    <tr>\n",
              "      <th>4</th>\n",
              "      <td>5</td>\n",
              "      <td>0</td>\n",
              "      <td>35.0</td>\n",
              "      <td>0</td>\n",
              "      <td>0</td>\n",
              "      <td>8.0500</td>\n",
              "      <td>Mr</td>\n",
              "      <td>24</td>\n",
              "      <td>1</td>\n",
              "      <td>0</td>\n",
              "      <td>0</td>\n",
              "      <td>0</td>\n",
              "      <td>1</td>\n",
              "      <td>0</td>\n",
              "      <td>0</td>\n",
              "      <td>1</td>\n",
              "    </tr>\n",
              "  </tbody>\n",
              "</table>\n",
              "</div>"
            ],
            "text/plain": [
              "   PassengerId  Survived   Age  ...  Embarked_C  Embarked_Q  Embarked_S\n",
              "0            1         0  22.0  ...           0           0           1\n",
              "1            2         1  38.0  ...           1           0           0\n",
              "2            3         1  26.0  ...           0           0           1\n",
              "3            4         1  35.0  ...           0           0           1\n",
              "4            5         0  35.0  ...           0           0           1\n",
              "\n",
              "[5 rows x 16 columns]"
            ]
          },
          "metadata": {
            "tags": []
          },
          "execution_count": 33
        }
      ]
    },
    {
      "cell_type": "code",
      "metadata": {
        "id": "NnFyWAPln6MK",
        "outputId": "293c7a40-f107-46b3-bf17-288f23668a6e",
        "colab": {
          "base_uri": "https://localhost:8080/",
          "height": 316
        }
      },
      "source": [
        "train_titan.isnull().sum()"
      ],
      "execution_count": null,
      "outputs": [
        {
          "output_type": "execute_result",
          "data": {
            "text/plain": [
              "PassengerId            0\n",
              "Survived               0\n",
              "Age                    0\n",
              "SibSp                  0\n",
              "Parch                  0\n",
              "Fare                   0\n",
              "Title                  0\n",
              "Name_length            0\n",
              "Pclass_lower_class     0\n",
              "Pclass_middle_class    0\n",
              "Pclass_upper_class     0\n",
              "Sex_female             0\n",
              "Sex_male               0\n",
              "Embarked_C             0\n",
              "Embarked_Q             0\n",
              "Embarked_S             0\n",
              "dtype: int64"
            ]
          },
          "metadata": {
            "tags": []
          },
          "execution_count": 34
        }
      ]
    },
    {
      "cell_type": "code",
      "metadata": {
        "id": "7eujxLJLn_RW",
        "outputId": "e3070d7a-b72a-4578-ccd6-ea2c23cc2db2",
        "colab": {
          "base_uri": "https://localhost:8080/",
          "height": 215
        }
      },
      "source": [
        "train_titan.head()"
      ],
      "execution_count": null,
      "outputs": [
        {
          "output_type": "execute_result",
          "data": {
            "text/html": [
              "<div>\n",
              "<style scoped>\n",
              "    .dataframe tbody tr th:only-of-type {\n",
              "        vertical-align: middle;\n",
              "    }\n",
              "\n",
              "    .dataframe tbody tr th {\n",
              "        vertical-align: top;\n",
              "    }\n",
              "\n",
              "    .dataframe thead th {\n",
              "        text-align: right;\n",
              "    }\n",
              "</style>\n",
              "<table border=\"1\" class=\"dataframe\">\n",
              "  <thead>\n",
              "    <tr style=\"text-align: right;\">\n",
              "      <th></th>\n",
              "      <th>PassengerId</th>\n",
              "      <th>Survived</th>\n",
              "      <th>Age</th>\n",
              "      <th>SibSp</th>\n",
              "      <th>Parch</th>\n",
              "      <th>Fare</th>\n",
              "      <th>Title</th>\n",
              "      <th>Name_length</th>\n",
              "      <th>Pclass_lower_class</th>\n",
              "      <th>Pclass_middle_class</th>\n",
              "      <th>Pclass_upper_class</th>\n",
              "      <th>Sex_female</th>\n",
              "      <th>Sex_male</th>\n",
              "      <th>Embarked_C</th>\n",
              "      <th>Embarked_Q</th>\n",
              "      <th>Embarked_S</th>\n",
              "    </tr>\n",
              "  </thead>\n",
              "  <tbody>\n",
              "    <tr>\n",
              "      <th>0</th>\n",
              "      <td>1</td>\n",
              "      <td>0</td>\n",
              "      <td>22.0</td>\n",
              "      <td>1</td>\n",
              "      <td>0</td>\n",
              "      <td>7.2500</td>\n",
              "      <td>Mr</td>\n",
              "      <td>23</td>\n",
              "      <td>1</td>\n",
              "      <td>0</td>\n",
              "      <td>0</td>\n",
              "      <td>0</td>\n",
              "      <td>1</td>\n",
              "      <td>0</td>\n",
              "      <td>0</td>\n",
              "      <td>1</td>\n",
              "    </tr>\n",
              "    <tr>\n",
              "      <th>1</th>\n",
              "      <td>2</td>\n",
              "      <td>1</td>\n",
              "      <td>38.0</td>\n",
              "      <td>1</td>\n",
              "      <td>0</td>\n",
              "      <td>71.2833</td>\n",
              "      <td>Mrs</td>\n",
              "      <td>51</td>\n",
              "      <td>0</td>\n",
              "      <td>0</td>\n",
              "      <td>1</td>\n",
              "      <td>1</td>\n",
              "      <td>0</td>\n",
              "      <td>1</td>\n",
              "      <td>0</td>\n",
              "      <td>0</td>\n",
              "    </tr>\n",
              "    <tr>\n",
              "      <th>2</th>\n",
              "      <td>3</td>\n",
              "      <td>1</td>\n",
              "      <td>26.0</td>\n",
              "      <td>0</td>\n",
              "      <td>0</td>\n",
              "      <td>7.9250</td>\n",
              "      <td>Miss</td>\n",
              "      <td>22</td>\n",
              "      <td>1</td>\n",
              "      <td>0</td>\n",
              "      <td>0</td>\n",
              "      <td>1</td>\n",
              "      <td>0</td>\n",
              "      <td>0</td>\n",
              "      <td>0</td>\n",
              "      <td>1</td>\n",
              "    </tr>\n",
              "    <tr>\n",
              "      <th>3</th>\n",
              "      <td>4</td>\n",
              "      <td>1</td>\n",
              "      <td>35.0</td>\n",
              "      <td>1</td>\n",
              "      <td>0</td>\n",
              "      <td>53.1000</td>\n",
              "      <td>Mrs</td>\n",
              "      <td>44</td>\n",
              "      <td>0</td>\n",
              "      <td>0</td>\n",
              "      <td>1</td>\n",
              "      <td>1</td>\n",
              "      <td>0</td>\n",
              "      <td>0</td>\n",
              "      <td>0</td>\n",
              "      <td>1</td>\n",
              "    </tr>\n",
              "    <tr>\n",
              "      <th>4</th>\n",
              "      <td>5</td>\n",
              "      <td>0</td>\n",
              "      <td>35.0</td>\n",
              "      <td>0</td>\n",
              "      <td>0</td>\n",
              "      <td>8.0500</td>\n",
              "      <td>Mr</td>\n",
              "      <td>24</td>\n",
              "      <td>1</td>\n",
              "      <td>0</td>\n",
              "      <td>0</td>\n",
              "      <td>0</td>\n",
              "      <td>1</td>\n",
              "      <td>0</td>\n",
              "      <td>0</td>\n",
              "      <td>1</td>\n",
              "    </tr>\n",
              "  </tbody>\n",
              "</table>\n",
              "</div>"
            ],
            "text/plain": [
              "   PassengerId  Survived   Age  ...  Embarked_C  Embarked_Q  Embarked_S\n",
              "0            1         0  22.0  ...           0           0           1\n",
              "1            2         1  38.0  ...           1           0           0\n",
              "2            3         1  26.0  ...           0           0           1\n",
              "3            4         1  35.0  ...           0           0           1\n",
              "4            5         0  35.0  ...           0           0           1\n",
              "\n",
              "[5 rows x 16 columns]"
            ]
          },
          "metadata": {
            "tags": []
          },
          "execution_count": 35
        }
      ]
    },
    {
      "cell_type": "code",
      "metadata": {
        "id": "u9vX2KdwoDnU",
        "outputId": "01b8c9be-b158-4437-92ac-2b66f2d53e3c",
        "colab": {
          "base_uri": "https://localhost:8080/",
          "height": 422
        }
      },
      "source": [
        "train_titan.info()"
      ],
      "execution_count": null,
      "outputs": [
        {
          "output_type": "stream",
          "text": [
            "<class 'pandas.core.frame.DataFrame'>\n",
            "Int64Index: 889 entries, 0 to 890\n",
            "Data columns (total 16 columns):\n",
            " #   Column               Non-Null Count  Dtype  \n",
            "---  ------               --------------  -----  \n",
            " 0   PassengerId          889 non-null    int64  \n",
            " 1   Survived             889 non-null    int64  \n",
            " 2   Age                  889 non-null    float64\n",
            " 3   SibSp                889 non-null    int64  \n",
            " 4   Parch                889 non-null    int64  \n",
            " 5   Fare                 889 non-null    float64\n",
            " 6   Title                889 non-null    object \n",
            " 7   Name_length          889 non-null    int64  \n",
            " 8   Pclass_lower_class   889 non-null    uint8  \n",
            " 9   Pclass_middle_class  889 non-null    uint8  \n",
            " 10  Pclass_upper_class   889 non-null    uint8  \n",
            " 11  Sex_female           889 non-null    uint8  \n",
            " 12  Sex_male             889 non-null    uint8  \n",
            " 13  Embarked_C           889 non-null    uint8  \n",
            " 14  Embarked_Q           889 non-null    uint8  \n",
            " 15  Embarked_S           889 non-null    uint8  \n",
            "dtypes: float64(2), int64(5), object(1), uint8(8)\n",
            "memory usage: 69.5+ KB\n"
          ],
          "name": "stdout"
        }
      ]
    },
    {
      "cell_type": "code",
      "metadata": {
        "id": "YFbiAek2oIZo",
        "outputId": "aa8a27e7-a8d5-43e7-d73e-ea9349b72a59",
        "colab": {
          "base_uri": "https://localhost:8080/",
          "height": 228
        }
      },
      "source": [
        "train_titan.Age.value_counts()"
      ],
      "execution_count": null,
      "outputs": [
        {
          "output_type": "execute_result",
          "data": {
            "text/plain": [
              "32.739609    120\n",
              "21.860000     36\n",
              "24.000000     30\n",
              "22.000000     27\n",
              "18.000000     26\n",
              "            ... \n",
              "53.000000      1\n",
              "66.000000      1\n",
              "70.500000      1\n",
              "20.500000      1\n",
              "0.420000       1\n",
              "Name: Age, Length: 92, dtype: int64"
            ]
          },
          "metadata": {
            "tags": []
          },
          "execution_count": 37
        }
      ]
    },
    {
      "cell_type": "code",
      "metadata": {
        "id": "-f-lGFiHoNeb",
        "outputId": "169fa707-a1ed-46bb-e5fd-1650fd1af996",
        "colab": {
          "base_uri": "https://localhost:8080/",
          "height": 351
        }
      },
      "source": [
        "train_titan.Age.unique()\n"
      ],
      "execution_count": null,
      "outputs": [
        {
          "output_type": "execute_result",
          "data": {
            "text/plain": [
              "array([22.        , 38.        , 26.        , 35.        , 32.7396088 ,\n",
              "       54.        ,  2.        , 27.        , 14.        ,  4.        ,\n",
              "       58.        , 20.        , 39.        , 55.        , 31.        ,\n",
              "       35.98181818, 34.        , 15.        , 28.        ,  8.        ,\n",
              "       19.        , 21.86      , 40.        , 66.        , 42.        ,\n",
              "       21.        , 18.        ,  3.        ,  7.        , 49.        ,\n",
              "       29.        , 65.        , 28.5       ,  5.        , 11.        ,\n",
              "       45.        ,  4.57416667, 17.        , 32.        , 16.        ,\n",
              "       25.        ,  0.83      , 30.        , 33.        , 23.        ,\n",
              "       24.        , 46.        , 59.        , 71.        , 37.        ,\n",
              "       47.        , 14.5       , 70.5       , 32.5       , 12.        ,\n",
              "        9.        , 36.5       , 51.        , 55.5       , 40.5       ,\n",
              "       44.        ,  1.        , 61.        , 56.        , 50.        ,\n",
              "       36.        , 45.5       , 20.5       , 62.        , 41.        ,\n",
              "       52.        , 63.        , 23.5       ,  0.92      , 43.        ,\n",
              "       60.        , 10.        , 64.        , 13.        , 48.        ,\n",
              "        0.75      , 53.        , 57.        , 80.        , 70.        ,\n",
              "       24.5       ,  6.        ,  0.67      , 30.5       ,  0.42      ,\n",
              "       34.5       , 74.        ])"
            ]
          },
          "metadata": {
            "tags": []
          },
          "execution_count": 38
        }
      ]
    },
    {
      "cell_type": "code",
      "metadata": {
        "id": "EuN_z9WnoR7v"
      },
      "source": [
        "train_titan.Age = train_titan.Age.astype(int)"
      ],
      "execution_count": null,
      "outputs": []
    },
    {
      "cell_type": "code",
      "metadata": {
        "id": "3XtXluD_oZ3h",
        "outputId": "6bf31f0c-6c0a-469e-ae7a-678dad0aa7c5",
        "colab": {
          "base_uri": "https://localhost:8080/",
          "height": 105
        }
      },
      "source": [
        "train_titan.Age.unique()"
      ],
      "execution_count": null,
      "outputs": [
        {
          "output_type": "execute_result",
          "data": {
            "text/plain": [
              "array([22, 38, 26, 35, 32, 54,  2, 27, 14,  4, 58, 20, 39, 55, 31, 34, 15,\n",
              "       28,  8, 19, 21, 40, 66, 42, 18,  3,  7, 49, 29, 65,  5, 11, 45, 17,\n",
              "       16, 25,  0, 30, 33, 23, 24, 46, 59, 71, 37, 47, 70, 12,  9, 36, 51,\n",
              "       44,  1, 61, 56, 50, 62, 41, 52, 63, 43, 60, 10, 64, 13, 48, 53, 57,\n",
              "       80,  6, 74])"
            ]
          },
          "metadata": {
            "tags": []
          },
          "execution_count": 40
        }
      ]
    },
    {
      "cell_type": "code",
      "metadata": {
        "id": "3NH9-qjmoeJq"
      },
      "source": [
        "train_titan['Age'].replace({0:1},inplace = True)"
      ],
      "execution_count": null,
      "outputs": []
    },
    {
      "cell_type": "code",
      "metadata": {
        "id": "6Wjp9zCcoiyi"
      },
      "source": [
        "train_titan['Fare'] = np.round(train_titan.Fare,decimals=3)"
      ],
      "execution_count": null,
      "outputs": []
    },
    {
      "cell_type": "code",
      "metadata": {
        "id": "K_uXR_wKosfO",
        "outputId": "b30c1b60-ad63-420e-f665-af2216d84eaa",
        "colab": {
          "base_uri": "https://localhost:8080/",
          "height": 215
        }
      },
      "source": [
        "train_titan.head()"
      ],
      "execution_count": null,
      "outputs": [
        {
          "output_type": "execute_result",
          "data": {
            "text/html": [
              "<div>\n",
              "<style scoped>\n",
              "    .dataframe tbody tr th:only-of-type {\n",
              "        vertical-align: middle;\n",
              "    }\n",
              "\n",
              "    .dataframe tbody tr th {\n",
              "        vertical-align: top;\n",
              "    }\n",
              "\n",
              "    .dataframe thead th {\n",
              "        text-align: right;\n",
              "    }\n",
              "</style>\n",
              "<table border=\"1\" class=\"dataframe\">\n",
              "  <thead>\n",
              "    <tr style=\"text-align: right;\">\n",
              "      <th></th>\n",
              "      <th>PassengerId</th>\n",
              "      <th>Survived</th>\n",
              "      <th>Age</th>\n",
              "      <th>SibSp</th>\n",
              "      <th>Parch</th>\n",
              "      <th>Fare</th>\n",
              "      <th>Title</th>\n",
              "      <th>Name_length</th>\n",
              "      <th>Pclass_lower_class</th>\n",
              "      <th>Pclass_middle_class</th>\n",
              "      <th>Pclass_upper_class</th>\n",
              "      <th>Sex_female</th>\n",
              "      <th>Sex_male</th>\n",
              "      <th>Embarked_C</th>\n",
              "      <th>Embarked_Q</th>\n",
              "      <th>Embarked_S</th>\n",
              "    </tr>\n",
              "  </thead>\n",
              "  <tbody>\n",
              "    <tr>\n",
              "      <th>0</th>\n",
              "      <td>1</td>\n",
              "      <td>0</td>\n",
              "      <td>22</td>\n",
              "      <td>1</td>\n",
              "      <td>0</td>\n",
              "      <td>7.250</td>\n",
              "      <td>Mr</td>\n",
              "      <td>23</td>\n",
              "      <td>1</td>\n",
              "      <td>0</td>\n",
              "      <td>0</td>\n",
              "      <td>0</td>\n",
              "      <td>1</td>\n",
              "      <td>0</td>\n",
              "      <td>0</td>\n",
              "      <td>1</td>\n",
              "    </tr>\n",
              "    <tr>\n",
              "      <th>1</th>\n",
              "      <td>2</td>\n",
              "      <td>1</td>\n",
              "      <td>38</td>\n",
              "      <td>1</td>\n",
              "      <td>0</td>\n",
              "      <td>71.283</td>\n",
              "      <td>Mrs</td>\n",
              "      <td>51</td>\n",
              "      <td>0</td>\n",
              "      <td>0</td>\n",
              "      <td>1</td>\n",
              "      <td>1</td>\n",
              "      <td>0</td>\n",
              "      <td>1</td>\n",
              "      <td>0</td>\n",
              "      <td>0</td>\n",
              "    </tr>\n",
              "    <tr>\n",
              "      <th>2</th>\n",
              "      <td>3</td>\n",
              "      <td>1</td>\n",
              "      <td>26</td>\n",
              "      <td>0</td>\n",
              "      <td>0</td>\n",
              "      <td>7.925</td>\n",
              "      <td>Miss</td>\n",
              "      <td>22</td>\n",
              "      <td>1</td>\n",
              "      <td>0</td>\n",
              "      <td>0</td>\n",
              "      <td>1</td>\n",
              "      <td>0</td>\n",
              "      <td>0</td>\n",
              "      <td>0</td>\n",
              "      <td>1</td>\n",
              "    </tr>\n",
              "    <tr>\n",
              "      <th>3</th>\n",
              "      <td>4</td>\n",
              "      <td>1</td>\n",
              "      <td>35</td>\n",
              "      <td>1</td>\n",
              "      <td>0</td>\n",
              "      <td>53.100</td>\n",
              "      <td>Mrs</td>\n",
              "      <td>44</td>\n",
              "      <td>0</td>\n",
              "      <td>0</td>\n",
              "      <td>1</td>\n",
              "      <td>1</td>\n",
              "      <td>0</td>\n",
              "      <td>0</td>\n",
              "      <td>0</td>\n",
              "      <td>1</td>\n",
              "    </tr>\n",
              "    <tr>\n",
              "      <th>4</th>\n",
              "      <td>5</td>\n",
              "      <td>0</td>\n",
              "      <td>35</td>\n",
              "      <td>0</td>\n",
              "      <td>0</td>\n",
              "      <td>8.050</td>\n",
              "      <td>Mr</td>\n",
              "      <td>24</td>\n",
              "      <td>1</td>\n",
              "      <td>0</td>\n",
              "      <td>0</td>\n",
              "      <td>0</td>\n",
              "      <td>1</td>\n",
              "      <td>0</td>\n",
              "      <td>0</td>\n",
              "      <td>1</td>\n",
              "    </tr>\n",
              "  </tbody>\n",
              "</table>\n",
              "</div>"
            ],
            "text/plain": [
              "   PassengerId  Survived  Age  ...  Embarked_C  Embarked_Q  Embarked_S\n",
              "0            1         0   22  ...           0           0           1\n",
              "1            2         1   38  ...           1           0           0\n",
              "2            3         1   26  ...           0           0           1\n",
              "3            4         1   35  ...           0           0           1\n",
              "4            5         0   35  ...           0           0           1\n",
              "\n",
              "[5 rows x 16 columns]"
            ]
          },
          "metadata": {
            "tags": []
          },
          "execution_count": 43
        }
      ]
    },
    {
      "cell_type": "code",
      "metadata": {
        "id": "AYcyLHYmowE8"
      },
      "source": [
        "train_titan = train_titan.drop('Title',axis = 1)"
      ],
      "execution_count": null,
      "outputs": []
    },
    {
      "cell_type": "code",
      "metadata": {
        "id": "wBUn9MJAo4zA",
        "outputId": "fbc10f3b-9455-4d81-b6a3-90a34a3391ee",
        "colab": {
          "base_uri": "https://localhost:8080/",
          "height": 215
        }
      },
      "source": [
        "train_titan.head()"
      ],
      "execution_count": null,
      "outputs": [
        {
          "output_type": "execute_result",
          "data": {
            "text/html": [
              "<div>\n",
              "<style scoped>\n",
              "    .dataframe tbody tr th:only-of-type {\n",
              "        vertical-align: middle;\n",
              "    }\n",
              "\n",
              "    .dataframe tbody tr th {\n",
              "        vertical-align: top;\n",
              "    }\n",
              "\n",
              "    .dataframe thead th {\n",
              "        text-align: right;\n",
              "    }\n",
              "</style>\n",
              "<table border=\"1\" class=\"dataframe\">\n",
              "  <thead>\n",
              "    <tr style=\"text-align: right;\">\n",
              "      <th></th>\n",
              "      <th>PassengerId</th>\n",
              "      <th>Survived</th>\n",
              "      <th>Age</th>\n",
              "      <th>SibSp</th>\n",
              "      <th>Parch</th>\n",
              "      <th>Fare</th>\n",
              "      <th>Name_length</th>\n",
              "      <th>Pclass_lower_class</th>\n",
              "      <th>Pclass_middle_class</th>\n",
              "      <th>Pclass_upper_class</th>\n",
              "      <th>Sex_female</th>\n",
              "      <th>Sex_male</th>\n",
              "      <th>Embarked_C</th>\n",
              "      <th>Embarked_Q</th>\n",
              "      <th>Embarked_S</th>\n",
              "    </tr>\n",
              "  </thead>\n",
              "  <tbody>\n",
              "    <tr>\n",
              "      <th>0</th>\n",
              "      <td>1</td>\n",
              "      <td>0</td>\n",
              "      <td>22</td>\n",
              "      <td>1</td>\n",
              "      <td>0</td>\n",
              "      <td>7.250</td>\n",
              "      <td>23</td>\n",
              "      <td>1</td>\n",
              "      <td>0</td>\n",
              "      <td>0</td>\n",
              "      <td>0</td>\n",
              "      <td>1</td>\n",
              "      <td>0</td>\n",
              "      <td>0</td>\n",
              "      <td>1</td>\n",
              "    </tr>\n",
              "    <tr>\n",
              "      <th>1</th>\n",
              "      <td>2</td>\n",
              "      <td>1</td>\n",
              "      <td>38</td>\n",
              "      <td>1</td>\n",
              "      <td>0</td>\n",
              "      <td>71.283</td>\n",
              "      <td>51</td>\n",
              "      <td>0</td>\n",
              "      <td>0</td>\n",
              "      <td>1</td>\n",
              "      <td>1</td>\n",
              "      <td>0</td>\n",
              "      <td>1</td>\n",
              "      <td>0</td>\n",
              "      <td>0</td>\n",
              "    </tr>\n",
              "    <tr>\n",
              "      <th>2</th>\n",
              "      <td>3</td>\n",
              "      <td>1</td>\n",
              "      <td>26</td>\n",
              "      <td>0</td>\n",
              "      <td>0</td>\n",
              "      <td>7.925</td>\n",
              "      <td>22</td>\n",
              "      <td>1</td>\n",
              "      <td>0</td>\n",
              "      <td>0</td>\n",
              "      <td>1</td>\n",
              "      <td>0</td>\n",
              "      <td>0</td>\n",
              "      <td>0</td>\n",
              "      <td>1</td>\n",
              "    </tr>\n",
              "    <tr>\n",
              "      <th>3</th>\n",
              "      <td>4</td>\n",
              "      <td>1</td>\n",
              "      <td>35</td>\n",
              "      <td>1</td>\n",
              "      <td>0</td>\n",
              "      <td>53.100</td>\n",
              "      <td>44</td>\n",
              "      <td>0</td>\n",
              "      <td>0</td>\n",
              "      <td>1</td>\n",
              "      <td>1</td>\n",
              "      <td>0</td>\n",
              "      <td>0</td>\n",
              "      <td>0</td>\n",
              "      <td>1</td>\n",
              "    </tr>\n",
              "    <tr>\n",
              "      <th>4</th>\n",
              "      <td>5</td>\n",
              "      <td>0</td>\n",
              "      <td>35</td>\n",
              "      <td>0</td>\n",
              "      <td>0</td>\n",
              "      <td>8.050</td>\n",
              "      <td>24</td>\n",
              "      <td>1</td>\n",
              "      <td>0</td>\n",
              "      <td>0</td>\n",
              "      <td>0</td>\n",
              "      <td>1</td>\n",
              "      <td>0</td>\n",
              "      <td>0</td>\n",
              "      <td>1</td>\n",
              "    </tr>\n",
              "  </tbody>\n",
              "</table>\n",
              "</div>"
            ],
            "text/plain": [
              "   PassengerId  Survived  Age  ...  Embarked_C  Embarked_Q  Embarked_S\n",
              "0            1         0   22  ...           0           0           1\n",
              "1            2         1   38  ...           1           0           0\n",
              "2            3         1   26  ...           0           0           1\n",
              "3            4         1   35  ...           0           0           1\n",
              "4            5         0   35  ...           0           0           1\n",
              "\n",
              "[5 rows x 15 columns]"
            ]
          },
          "metadata": {
            "tags": []
          },
          "execution_count": 45
        }
      ]
    },
    {
      "cell_type": "markdown",
      "metadata": {
        "id": "8iKMXgoGpDwd"
      },
      "source": [
        "# **Testing Data and its Feature Engineering**"
      ]
    },
    {
      "cell_type": "code",
      "metadata": {
        "id": "kSFH7ZdOpPEG",
        "outputId": "81b993e1-cfaf-4b58-f8f1-6ba12ab76618",
        "colab": {
          "base_uri": "https://localhost:8080/",
          "height": 195
        }
      },
      "source": [
        "test_data.head()"
      ],
      "execution_count": null,
      "outputs": [
        {
          "output_type": "execute_result",
          "data": {
            "text/html": [
              "<div>\n",
              "<style scoped>\n",
              "    .dataframe tbody tr th:only-of-type {\n",
              "        vertical-align: middle;\n",
              "    }\n",
              "\n",
              "    .dataframe tbody tr th {\n",
              "        vertical-align: top;\n",
              "    }\n",
              "\n",
              "    .dataframe thead th {\n",
              "        text-align: right;\n",
              "    }\n",
              "</style>\n",
              "<table border=\"1\" class=\"dataframe\">\n",
              "  <thead>\n",
              "    <tr style=\"text-align: right;\">\n",
              "      <th></th>\n",
              "      <th>PassengerId</th>\n",
              "      <th>Pclass</th>\n",
              "      <th>Name</th>\n",
              "      <th>Sex</th>\n",
              "      <th>Age</th>\n",
              "      <th>SibSp</th>\n",
              "      <th>Parch</th>\n",
              "      <th>Ticket</th>\n",
              "      <th>Fare</th>\n",
              "      <th>Cabin</th>\n",
              "      <th>Embarked</th>\n",
              "    </tr>\n",
              "  </thead>\n",
              "  <tbody>\n",
              "    <tr>\n",
              "      <th>0</th>\n",
              "      <td>892</td>\n",
              "      <td>3</td>\n",
              "      <td>Kelly, Mr. James</td>\n",
              "      <td>male</td>\n",
              "      <td>34.5</td>\n",
              "      <td>0</td>\n",
              "      <td>0</td>\n",
              "      <td>330911</td>\n",
              "      <td>7.8292</td>\n",
              "      <td>NaN</td>\n",
              "      <td>Q</td>\n",
              "    </tr>\n",
              "    <tr>\n",
              "      <th>1</th>\n",
              "      <td>893</td>\n",
              "      <td>3</td>\n",
              "      <td>Wilkes, Mrs. James (Ellen Needs)</td>\n",
              "      <td>female</td>\n",
              "      <td>47.0</td>\n",
              "      <td>1</td>\n",
              "      <td>0</td>\n",
              "      <td>363272</td>\n",
              "      <td>7.0000</td>\n",
              "      <td>NaN</td>\n",
              "      <td>S</td>\n",
              "    </tr>\n",
              "    <tr>\n",
              "      <th>2</th>\n",
              "      <td>894</td>\n",
              "      <td>2</td>\n",
              "      <td>Myles, Mr. Thomas Francis</td>\n",
              "      <td>male</td>\n",
              "      <td>62.0</td>\n",
              "      <td>0</td>\n",
              "      <td>0</td>\n",
              "      <td>240276</td>\n",
              "      <td>9.6875</td>\n",
              "      <td>NaN</td>\n",
              "      <td>Q</td>\n",
              "    </tr>\n",
              "    <tr>\n",
              "      <th>3</th>\n",
              "      <td>895</td>\n",
              "      <td>3</td>\n",
              "      <td>Wirz, Mr. Albert</td>\n",
              "      <td>male</td>\n",
              "      <td>27.0</td>\n",
              "      <td>0</td>\n",
              "      <td>0</td>\n",
              "      <td>315154</td>\n",
              "      <td>8.6625</td>\n",
              "      <td>NaN</td>\n",
              "      <td>S</td>\n",
              "    </tr>\n",
              "    <tr>\n",
              "      <th>4</th>\n",
              "      <td>896</td>\n",
              "      <td>3</td>\n",
              "      <td>Hirvonen, Mrs. Alexander (Helga E Lindqvist)</td>\n",
              "      <td>female</td>\n",
              "      <td>22.0</td>\n",
              "      <td>1</td>\n",
              "      <td>1</td>\n",
              "      <td>3101298</td>\n",
              "      <td>12.2875</td>\n",
              "      <td>NaN</td>\n",
              "      <td>S</td>\n",
              "    </tr>\n",
              "  </tbody>\n",
              "</table>\n",
              "</div>"
            ],
            "text/plain": [
              "   PassengerId  Pclass  ... Cabin Embarked\n",
              "0          892       3  ...   NaN        Q\n",
              "1          893       3  ...   NaN        S\n",
              "2          894       2  ...   NaN        Q\n",
              "3          895       3  ...   NaN        S\n",
              "4          896       3  ...   NaN        S\n",
              "\n",
              "[5 rows x 11 columns]"
            ]
          },
          "metadata": {
            "tags": []
          },
          "execution_count": 46
        }
      ]
    },
    {
      "cell_type": "code",
      "metadata": {
        "id": "GnAvSVzspUbc"
      },
      "source": [
        "test_data['Title']=0\n",
        "test_data['Title']=test_data.Name.str.extract('([A-Za-z]+)\\.') #lets extract the Salutations\n",
        "test_data['Title'].replace(['Mlle','Mme','Ms','Dr','Major','Lady','Countess','Jonkheer','Col','Rev','Capt','Sir','Don'],['Miss','Miss','Miss','Mr','Mr','Mrs','Mrs','Other','Other','Other','Mr','Mr','Mr'],inplace=True)"
      ],
      "execution_count": null,
      "outputs": []
    },
    {
      "cell_type": "code",
      "metadata": {
        "id": "vZqLYkNcpYMl"
      },
      "source": [
        "test_data['Name_length'] = test_data['Name'].apply(len)"
      ],
      "execution_count": null,
      "outputs": []
    },
    {
      "cell_type": "code",
      "metadata": {
        "id": "dfnyCi1Wpcq9"
      },
      "source": [
        "test_data.loc[(test_data.Age.isnull())&(test_data.Title=='Mr'),'Age']= test_data.Age[test_data.Title==\"Mr\"].mean()\n",
        "test_data.loc[(test_data.Age.isnull())&(test_data.Title=='Mrs'),'Age']= test_data.Age[test_data.Title==\"Mrs\"].mean()\n",
        "test_data.loc[(test_data.Age.isnull())&(test_data.Title=='Master'),'Age']= test_data.Age[test_data.Title==\"Master\"].mean()\n",
        "test_data.loc[(test_data.Age.isnull())&(test_data.Title=='Miss'),'Age']= test_data.Age[test_data.Title==\"Miss\"].mean()\n",
        "test_data.loc[(test_data.Age.isnull())&(test_data.Title=='Other'),'Age']= test_data.Age[test_data.Title==\"Other\"].mean()\n"
      ],
      "execution_count": null,
      "outputs": []
    },
    {
      "cell_type": "code",
      "metadata": {
        "id": "ZkjttCzgphGT",
        "outputId": "12d8d063-28ee-4009-bdc3-083a9ce21399",
        "colab": {
          "base_uri": "https://localhost:8080/",
          "height": 284
        }
      },
      "source": [
        "test_data.head(8)"
      ],
      "execution_count": null,
      "outputs": [
        {
          "output_type": "execute_result",
          "data": {
            "text/html": [
              "<div>\n",
              "<style scoped>\n",
              "    .dataframe tbody tr th:only-of-type {\n",
              "        vertical-align: middle;\n",
              "    }\n",
              "\n",
              "    .dataframe tbody tr th {\n",
              "        vertical-align: top;\n",
              "    }\n",
              "\n",
              "    .dataframe thead th {\n",
              "        text-align: right;\n",
              "    }\n",
              "</style>\n",
              "<table border=\"1\" class=\"dataframe\">\n",
              "  <thead>\n",
              "    <tr style=\"text-align: right;\">\n",
              "      <th></th>\n",
              "      <th>PassengerId</th>\n",
              "      <th>Pclass</th>\n",
              "      <th>Name</th>\n",
              "      <th>Sex</th>\n",
              "      <th>Age</th>\n",
              "      <th>SibSp</th>\n",
              "      <th>Parch</th>\n",
              "      <th>Ticket</th>\n",
              "      <th>Fare</th>\n",
              "      <th>Cabin</th>\n",
              "      <th>Embarked</th>\n",
              "      <th>Title</th>\n",
              "      <th>Name_length</th>\n",
              "    </tr>\n",
              "  </thead>\n",
              "  <tbody>\n",
              "    <tr>\n",
              "      <th>0</th>\n",
              "      <td>892</td>\n",
              "      <td>3</td>\n",
              "      <td>Kelly, Mr. James</td>\n",
              "      <td>male</td>\n",
              "      <td>34.5</td>\n",
              "      <td>0</td>\n",
              "      <td>0</td>\n",
              "      <td>330911</td>\n",
              "      <td>7.8292</td>\n",
              "      <td>NaN</td>\n",
              "      <td>Q</td>\n",
              "      <td>Mr</td>\n",
              "      <td>16</td>\n",
              "    </tr>\n",
              "    <tr>\n",
              "      <th>1</th>\n",
              "      <td>893</td>\n",
              "      <td>3</td>\n",
              "      <td>Wilkes, Mrs. James (Ellen Needs)</td>\n",
              "      <td>female</td>\n",
              "      <td>47.0</td>\n",
              "      <td>1</td>\n",
              "      <td>0</td>\n",
              "      <td>363272</td>\n",
              "      <td>7.0000</td>\n",
              "      <td>NaN</td>\n",
              "      <td>S</td>\n",
              "      <td>Mrs</td>\n",
              "      <td>32</td>\n",
              "    </tr>\n",
              "    <tr>\n",
              "      <th>2</th>\n",
              "      <td>894</td>\n",
              "      <td>2</td>\n",
              "      <td>Myles, Mr. Thomas Francis</td>\n",
              "      <td>male</td>\n",
              "      <td>62.0</td>\n",
              "      <td>0</td>\n",
              "      <td>0</td>\n",
              "      <td>240276</td>\n",
              "      <td>9.6875</td>\n",
              "      <td>NaN</td>\n",
              "      <td>Q</td>\n",
              "      <td>Mr</td>\n",
              "      <td>25</td>\n",
              "    </tr>\n",
              "    <tr>\n",
              "      <th>3</th>\n",
              "      <td>895</td>\n",
              "      <td>3</td>\n",
              "      <td>Wirz, Mr. Albert</td>\n",
              "      <td>male</td>\n",
              "      <td>27.0</td>\n",
              "      <td>0</td>\n",
              "      <td>0</td>\n",
              "      <td>315154</td>\n",
              "      <td>8.6625</td>\n",
              "      <td>NaN</td>\n",
              "      <td>S</td>\n",
              "      <td>Mr</td>\n",
              "      <td>16</td>\n",
              "    </tr>\n",
              "    <tr>\n",
              "      <th>4</th>\n",
              "      <td>896</td>\n",
              "      <td>3</td>\n",
              "      <td>Hirvonen, Mrs. Alexander (Helga E Lindqvist)</td>\n",
              "      <td>female</td>\n",
              "      <td>22.0</td>\n",
              "      <td>1</td>\n",
              "      <td>1</td>\n",
              "      <td>3101298</td>\n",
              "      <td>12.2875</td>\n",
              "      <td>NaN</td>\n",
              "      <td>S</td>\n",
              "      <td>Mrs</td>\n",
              "      <td>44</td>\n",
              "    </tr>\n",
              "    <tr>\n",
              "      <th>5</th>\n",
              "      <td>897</td>\n",
              "      <td>3</td>\n",
              "      <td>Svensson, Mr. Johan Cervin</td>\n",
              "      <td>male</td>\n",
              "      <td>14.0</td>\n",
              "      <td>0</td>\n",
              "      <td>0</td>\n",
              "      <td>7538</td>\n",
              "      <td>9.2250</td>\n",
              "      <td>NaN</td>\n",
              "      <td>S</td>\n",
              "      <td>Mr</td>\n",
              "      <td>26</td>\n",
              "    </tr>\n",
              "    <tr>\n",
              "      <th>6</th>\n",
              "      <td>898</td>\n",
              "      <td>3</td>\n",
              "      <td>Connolly, Miss. Kate</td>\n",
              "      <td>female</td>\n",
              "      <td>30.0</td>\n",
              "      <td>0</td>\n",
              "      <td>0</td>\n",
              "      <td>330972</td>\n",
              "      <td>7.6292</td>\n",
              "      <td>NaN</td>\n",
              "      <td>Q</td>\n",
              "      <td>Miss</td>\n",
              "      <td>20</td>\n",
              "    </tr>\n",
              "    <tr>\n",
              "      <th>7</th>\n",
              "      <td>899</td>\n",
              "      <td>2</td>\n",
              "      <td>Caldwell, Mr. Albert Francis</td>\n",
              "      <td>male</td>\n",
              "      <td>26.0</td>\n",
              "      <td>1</td>\n",
              "      <td>1</td>\n",
              "      <td>248738</td>\n",
              "      <td>29.0000</td>\n",
              "      <td>NaN</td>\n",
              "      <td>S</td>\n",
              "      <td>Mr</td>\n",
              "      <td>28</td>\n",
              "    </tr>\n",
              "  </tbody>\n",
              "</table>\n",
              "</div>"
            ],
            "text/plain": [
              "   PassengerId  Pclass  ... Title Name_length\n",
              "0          892       3  ...    Mr          16\n",
              "1          893       3  ...   Mrs          32\n",
              "2          894       2  ...    Mr          25\n",
              "3          895       3  ...    Mr          16\n",
              "4          896       3  ...   Mrs          44\n",
              "5          897       3  ...    Mr          26\n",
              "6          898       3  ...  Miss          20\n",
              "7          899       2  ...    Mr          28\n",
              "\n",
              "[8 rows x 13 columns]"
            ]
          },
          "metadata": {
            "tags": []
          },
          "execution_count": 50
        }
      ]
    },
    {
      "cell_type": "code",
      "metadata": {
        "id": "hI4NQx8wpxcI",
        "outputId": "fa9e728f-5d34-41be-8b05-c7447deb7850",
        "colab": {
          "base_uri": "https://localhost:8080/",
          "height": 34
        }
      },
      "source": [
        "test_data.shape"
      ],
      "execution_count": null,
      "outputs": [
        {
          "output_type": "execute_result",
          "data": {
            "text/plain": [
              "(418, 13)"
            ]
          },
          "metadata": {
            "tags": []
          },
          "execution_count": 51
        }
      ]
    },
    {
      "cell_type": "code",
      "metadata": {
        "id": "HvRoMVKtp4yH",
        "outputId": "fe9e249f-2912-43b5-bcf4-0c639db36c78",
        "colab": {
          "base_uri": "https://localhost:8080/",
          "height": 263
        }
      },
      "source": [
        "test_data.isnull().sum()"
      ],
      "execution_count": null,
      "outputs": [
        {
          "output_type": "execute_result",
          "data": {
            "text/plain": [
              "PassengerId      0\n",
              "Pclass           0\n",
              "Name             0\n",
              "Sex              0\n",
              "Age              0\n",
              "SibSp            0\n",
              "Parch            0\n",
              "Ticket           0\n",
              "Fare             1\n",
              "Cabin          327\n",
              "Embarked         0\n",
              "Title            0\n",
              "Name_length      0\n",
              "dtype: int64"
            ]
          },
          "metadata": {
            "tags": []
          },
          "execution_count": 52
        }
      ]
    },
    {
      "cell_type": "code",
      "metadata": {
        "id": "4XGetMFfp8Tt"
      },
      "source": [
        "xtest_data = test_data.drop({'Name','Cabin','Title'},axis = 1)\n"
      ],
      "execution_count": null,
      "outputs": []
    },
    {
      "cell_type": "code",
      "metadata": {
        "id": "KGxvrTAPqAye",
        "outputId": "ae741fcb-462f-4d6b-928a-01113c6fc7fb",
        "colab": {
          "base_uri": "https://localhost:8080/",
          "height": 316
        }
      },
      "source": [
        "xtest_data.info()"
      ],
      "execution_count": null,
      "outputs": [
        {
          "output_type": "stream",
          "text": [
            "<class 'pandas.core.frame.DataFrame'>\n",
            "RangeIndex: 418 entries, 0 to 417\n",
            "Data columns (total 10 columns):\n",
            " #   Column       Non-Null Count  Dtype  \n",
            "---  ------       --------------  -----  \n",
            " 0   PassengerId  418 non-null    int64  \n",
            " 1   Pclass       418 non-null    int64  \n",
            " 2   Sex          418 non-null    object \n",
            " 3   Age          418 non-null    float64\n",
            " 4   SibSp        418 non-null    int64  \n",
            " 5   Parch        418 non-null    int64  \n",
            " 6   Ticket       418 non-null    object \n",
            " 7   Fare         417 non-null    float64\n",
            " 8   Embarked     418 non-null    object \n",
            " 9   Name_length  418 non-null    int64  \n",
            "dtypes: float64(2), int64(5), object(3)\n",
            "memory usage: 32.8+ KB\n"
          ],
          "name": "stdout"
        }
      ]
    },
    {
      "cell_type": "code",
      "metadata": {
        "id": "S7F1IIsTqE2U"
      },
      "source": [
        "Ticketclass = {3:\"lower_class\",2:'middle_class',1:'upper_class'}\n",
        "xtest_data['Pclass'] = xtest_data['Pclass'].map(Ticketclass)"
      ],
      "execution_count": null,
      "outputs": []
    },
    {
      "cell_type": "code",
      "metadata": {
        "id": "P-Azu0t9qJZj"
      },
      "source": [
        "test_dummies = pd.get_dummies(xtest_data[['Pclass','Sex','Embarked']])"
      ],
      "execution_count": null,
      "outputs": []
    },
    {
      "cell_type": "code",
      "metadata": {
        "id": "Gjzyhhe9qNpP",
        "outputId": "a2ee4d04-df2f-4c04-a46d-92375e42d62b",
        "colab": {
          "base_uri": "https://localhost:8080/",
          "height": 195
        }
      },
      "source": [
        "test_dummies.head()"
      ],
      "execution_count": null,
      "outputs": [
        {
          "output_type": "execute_result",
          "data": {
            "text/html": [
              "<div>\n",
              "<style scoped>\n",
              "    .dataframe tbody tr th:only-of-type {\n",
              "        vertical-align: middle;\n",
              "    }\n",
              "\n",
              "    .dataframe tbody tr th {\n",
              "        vertical-align: top;\n",
              "    }\n",
              "\n",
              "    .dataframe thead th {\n",
              "        text-align: right;\n",
              "    }\n",
              "</style>\n",
              "<table border=\"1\" class=\"dataframe\">\n",
              "  <thead>\n",
              "    <tr style=\"text-align: right;\">\n",
              "      <th></th>\n",
              "      <th>Pclass_lower_class</th>\n",
              "      <th>Pclass_middle_class</th>\n",
              "      <th>Pclass_upper_class</th>\n",
              "      <th>Sex_female</th>\n",
              "      <th>Sex_male</th>\n",
              "      <th>Embarked_C</th>\n",
              "      <th>Embarked_Q</th>\n",
              "      <th>Embarked_S</th>\n",
              "    </tr>\n",
              "  </thead>\n",
              "  <tbody>\n",
              "    <tr>\n",
              "      <th>0</th>\n",
              "      <td>1</td>\n",
              "      <td>0</td>\n",
              "      <td>0</td>\n",
              "      <td>0</td>\n",
              "      <td>1</td>\n",
              "      <td>0</td>\n",
              "      <td>1</td>\n",
              "      <td>0</td>\n",
              "    </tr>\n",
              "    <tr>\n",
              "      <th>1</th>\n",
              "      <td>1</td>\n",
              "      <td>0</td>\n",
              "      <td>0</td>\n",
              "      <td>1</td>\n",
              "      <td>0</td>\n",
              "      <td>0</td>\n",
              "      <td>0</td>\n",
              "      <td>1</td>\n",
              "    </tr>\n",
              "    <tr>\n",
              "      <th>2</th>\n",
              "      <td>0</td>\n",
              "      <td>1</td>\n",
              "      <td>0</td>\n",
              "      <td>0</td>\n",
              "      <td>1</td>\n",
              "      <td>0</td>\n",
              "      <td>1</td>\n",
              "      <td>0</td>\n",
              "    </tr>\n",
              "    <tr>\n",
              "      <th>3</th>\n",
              "      <td>1</td>\n",
              "      <td>0</td>\n",
              "      <td>0</td>\n",
              "      <td>0</td>\n",
              "      <td>1</td>\n",
              "      <td>0</td>\n",
              "      <td>0</td>\n",
              "      <td>1</td>\n",
              "    </tr>\n",
              "    <tr>\n",
              "      <th>4</th>\n",
              "      <td>1</td>\n",
              "      <td>0</td>\n",
              "      <td>0</td>\n",
              "      <td>1</td>\n",
              "      <td>0</td>\n",
              "      <td>0</td>\n",
              "      <td>0</td>\n",
              "      <td>1</td>\n",
              "    </tr>\n",
              "  </tbody>\n",
              "</table>\n",
              "</div>"
            ],
            "text/plain": [
              "   Pclass_lower_class  Pclass_middle_class  ...  Embarked_Q  Embarked_S\n",
              "0                   1                    0  ...           1           0\n",
              "1                   1                    0  ...           0           1\n",
              "2                   0                    1  ...           1           0\n",
              "3                   1                    0  ...           0           1\n",
              "4                   1                    0  ...           0           1\n",
              "\n",
              "[5 rows x 8 columns]"
            ]
          },
          "metadata": {
            "tags": []
          },
          "execution_count": 57
        }
      ]
    },
    {
      "cell_type": "code",
      "metadata": {
        "id": "5txD2wL-qSGo"
      },
      "source": [
        "test_titan = pd.concat([xtest_data.drop(['Pclass','Sex','Embarked'],axis =1),test_dummies],axis = 1)"
      ],
      "execution_count": null,
      "outputs": []
    },
    {
      "cell_type": "code",
      "metadata": {
        "id": "Xad3ABnzqWUr",
        "outputId": "ec5d6893-d319-4fe9-ce7d-4bdeaa36651b",
        "colab": {
          "base_uri": "https://localhost:8080/",
          "height": 215
        }
      },
      "source": [
        "test_titan.head()"
      ],
      "execution_count": null,
      "outputs": [
        {
          "output_type": "execute_result",
          "data": {
            "text/html": [
              "<div>\n",
              "<style scoped>\n",
              "    .dataframe tbody tr th:only-of-type {\n",
              "        vertical-align: middle;\n",
              "    }\n",
              "\n",
              "    .dataframe tbody tr th {\n",
              "        vertical-align: top;\n",
              "    }\n",
              "\n",
              "    .dataframe thead th {\n",
              "        text-align: right;\n",
              "    }\n",
              "</style>\n",
              "<table border=\"1\" class=\"dataframe\">\n",
              "  <thead>\n",
              "    <tr style=\"text-align: right;\">\n",
              "      <th></th>\n",
              "      <th>PassengerId</th>\n",
              "      <th>Age</th>\n",
              "      <th>SibSp</th>\n",
              "      <th>Parch</th>\n",
              "      <th>Ticket</th>\n",
              "      <th>Fare</th>\n",
              "      <th>Name_length</th>\n",
              "      <th>Pclass_lower_class</th>\n",
              "      <th>Pclass_middle_class</th>\n",
              "      <th>Pclass_upper_class</th>\n",
              "      <th>Sex_female</th>\n",
              "      <th>Sex_male</th>\n",
              "      <th>Embarked_C</th>\n",
              "      <th>Embarked_Q</th>\n",
              "      <th>Embarked_S</th>\n",
              "    </tr>\n",
              "  </thead>\n",
              "  <tbody>\n",
              "    <tr>\n",
              "      <th>0</th>\n",
              "      <td>892</td>\n",
              "      <td>34.5</td>\n",
              "      <td>0</td>\n",
              "      <td>0</td>\n",
              "      <td>330911</td>\n",
              "      <td>7.8292</td>\n",
              "      <td>16</td>\n",
              "      <td>1</td>\n",
              "      <td>0</td>\n",
              "      <td>0</td>\n",
              "      <td>0</td>\n",
              "      <td>1</td>\n",
              "      <td>0</td>\n",
              "      <td>1</td>\n",
              "      <td>0</td>\n",
              "    </tr>\n",
              "    <tr>\n",
              "      <th>1</th>\n",
              "      <td>893</td>\n",
              "      <td>47.0</td>\n",
              "      <td>1</td>\n",
              "      <td>0</td>\n",
              "      <td>363272</td>\n",
              "      <td>7.0000</td>\n",
              "      <td>32</td>\n",
              "      <td>1</td>\n",
              "      <td>0</td>\n",
              "      <td>0</td>\n",
              "      <td>1</td>\n",
              "      <td>0</td>\n",
              "      <td>0</td>\n",
              "      <td>0</td>\n",
              "      <td>1</td>\n",
              "    </tr>\n",
              "    <tr>\n",
              "      <th>2</th>\n",
              "      <td>894</td>\n",
              "      <td>62.0</td>\n",
              "      <td>0</td>\n",
              "      <td>0</td>\n",
              "      <td>240276</td>\n",
              "      <td>9.6875</td>\n",
              "      <td>25</td>\n",
              "      <td>0</td>\n",
              "      <td>1</td>\n",
              "      <td>0</td>\n",
              "      <td>0</td>\n",
              "      <td>1</td>\n",
              "      <td>0</td>\n",
              "      <td>1</td>\n",
              "      <td>0</td>\n",
              "    </tr>\n",
              "    <tr>\n",
              "      <th>3</th>\n",
              "      <td>895</td>\n",
              "      <td>27.0</td>\n",
              "      <td>0</td>\n",
              "      <td>0</td>\n",
              "      <td>315154</td>\n",
              "      <td>8.6625</td>\n",
              "      <td>16</td>\n",
              "      <td>1</td>\n",
              "      <td>0</td>\n",
              "      <td>0</td>\n",
              "      <td>0</td>\n",
              "      <td>1</td>\n",
              "      <td>0</td>\n",
              "      <td>0</td>\n",
              "      <td>1</td>\n",
              "    </tr>\n",
              "    <tr>\n",
              "      <th>4</th>\n",
              "      <td>896</td>\n",
              "      <td>22.0</td>\n",
              "      <td>1</td>\n",
              "      <td>1</td>\n",
              "      <td>3101298</td>\n",
              "      <td>12.2875</td>\n",
              "      <td>44</td>\n",
              "      <td>1</td>\n",
              "      <td>0</td>\n",
              "      <td>0</td>\n",
              "      <td>1</td>\n",
              "      <td>0</td>\n",
              "      <td>0</td>\n",
              "      <td>0</td>\n",
              "      <td>1</td>\n",
              "    </tr>\n",
              "  </tbody>\n",
              "</table>\n",
              "</div>"
            ],
            "text/plain": [
              "   PassengerId   Age  SibSp  ...  Embarked_C Embarked_Q  Embarked_S\n",
              "0          892  34.5      0  ...           0          1           0\n",
              "1          893  47.0      1  ...           0          0           1\n",
              "2          894  62.0      0  ...           0          1           0\n",
              "3          895  27.0      0  ...           0          0           1\n",
              "4          896  22.0      1  ...           0          0           1\n",
              "\n",
              "[5 rows x 15 columns]"
            ]
          },
          "metadata": {
            "tags": []
          },
          "execution_count": 59
        }
      ]
    },
    {
      "cell_type": "code",
      "metadata": {
        "id": "XkUUk95uqaEe",
        "outputId": "391cb5a0-a51a-4065-f6ca-d7de7f67a87d",
        "colab": {
          "base_uri": "https://localhost:8080/",
          "height": 34
        }
      },
      "source": [
        "test_titan.shape"
      ],
      "execution_count": null,
      "outputs": [
        {
          "output_type": "execute_result",
          "data": {
            "text/plain": [
              "(418, 15)"
            ]
          },
          "metadata": {
            "tags": []
          },
          "execution_count": 60
        }
      ]
    },
    {
      "cell_type": "code",
      "metadata": {
        "id": "kCOOFWXfqZ84"
      },
      "source": [
        "test_titan.Fare= np.round(test_titan.Fare,decimals=3)"
      ],
      "execution_count": null,
      "outputs": []
    },
    {
      "cell_type": "code",
      "metadata": {
        "id": "aZ0UYYXfqiVT",
        "outputId": "44960586-ab1e-422a-918b-0655eac55d82",
        "colab": {
          "base_uri": "https://localhost:8080/",
          "height": 298
        }
      },
      "source": [
        "test_titan.isnull().sum()"
      ],
      "execution_count": null,
      "outputs": [
        {
          "output_type": "execute_result",
          "data": {
            "text/plain": [
              "PassengerId            0\n",
              "Age                    0\n",
              "SibSp                  0\n",
              "Parch                  0\n",
              "Ticket                 0\n",
              "Fare                   1\n",
              "Name_length            0\n",
              "Pclass_lower_class     0\n",
              "Pclass_middle_class    0\n",
              "Pclass_upper_class     0\n",
              "Sex_female             0\n",
              "Sex_male               0\n",
              "Embarked_C             0\n",
              "Embarked_Q             0\n",
              "Embarked_S             0\n",
              "dtype: int64"
            ]
          },
          "metadata": {
            "tags": []
          },
          "execution_count": 62
        }
      ]
    },
    {
      "cell_type": "code",
      "metadata": {
        "id": "V2YPUHzPql1O"
      },
      "source": [
        "test_titan['Fare'].fillna(train_data['Fare'].mean(), inplace=True)\n"
      ],
      "execution_count": null,
      "outputs": []
    },
    {
      "cell_type": "code",
      "metadata": {
        "id": "w-3WbKO2qpk1",
        "outputId": "b05cd3f1-a1bf-41a0-e342-da793c185e69",
        "colab": {
          "base_uri": "https://localhost:8080/",
          "height": 215
        }
      },
      "source": [
        "test_titan.head()"
      ],
      "execution_count": null,
      "outputs": [
        {
          "output_type": "execute_result",
          "data": {
            "text/html": [
              "<div>\n",
              "<style scoped>\n",
              "    .dataframe tbody tr th:only-of-type {\n",
              "        vertical-align: middle;\n",
              "    }\n",
              "\n",
              "    .dataframe tbody tr th {\n",
              "        vertical-align: top;\n",
              "    }\n",
              "\n",
              "    .dataframe thead th {\n",
              "        text-align: right;\n",
              "    }\n",
              "</style>\n",
              "<table border=\"1\" class=\"dataframe\">\n",
              "  <thead>\n",
              "    <tr style=\"text-align: right;\">\n",
              "      <th></th>\n",
              "      <th>PassengerId</th>\n",
              "      <th>Age</th>\n",
              "      <th>SibSp</th>\n",
              "      <th>Parch</th>\n",
              "      <th>Ticket</th>\n",
              "      <th>Fare</th>\n",
              "      <th>Name_length</th>\n",
              "      <th>Pclass_lower_class</th>\n",
              "      <th>Pclass_middle_class</th>\n",
              "      <th>Pclass_upper_class</th>\n",
              "      <th>Sex_female</th>\n",
              "      <th>Sex_male</th>\n",
              "      <th>Embarked_C</th>\n",
              "      <th>Embarked_Q</th>\n",
              "      <th>Embarked_S</th>\n",
              "    </tr>\n",
              "  </thead>\n",
              "  <tbody>\n",
              "    <tr>\n",
              "      <th>0</th>\n",
              "      <td>892</td>\n",
              "      <td>34.5</td>\n",
              "      <td>0</td>\n",
              "      <td>0</td>\n",
              "      <td>330911</td>\n",
              "      <td>7.829</td>\n",
              "      <td>16</td>\n",
              "      <td>1</td>\n",
              "      <td>0</td>\n",
              "      <td>0</td>\n",
              "      <td>0</td>\n",
              "      <td>1</td>\n",
              "      <td>0</td>\n",
              "      <td>1</td>\n",
              "      <td>0</td>\n",
              "    </tr>\n",
              "    <tr>\n",
              "      <th>1</th>\n",
              "      <td>893</td>\n",
              "      <td>47.0</td>\n",
              "      <td>1</td>\n",
              "      <td>0</td>\n",
              "      <td>363272</td>\n",
              "      <td>7.000</td>\n",
              "      <td>32</td>\n",
              "      <td>1</td>\n",
              "      <td>0</td>\n",
              "      <td>0</td>\n",
              "      <td>1</td>\n",
              "      <td>0</td>\n",
              "      <td>0</td>\n",
              "      <td>0</td>\n",
              "      <td>1</td>\n",
              "    </tr>\n",
              "    <tr>\n",
              "      <th>2</th>\n",
              "      <td>894</td>\n",
              "      <td>62.0</td>\n",
              "      <td>0</td>\n",
              "      <td>0</td>\n",
              "      <td>240276</td>\n",
              "      <td>9.688</td>\n",
              "      <td>25</td>\n",
              "      <td>0</td>\n",
              "      <td>1</td>\n",
              "      <td>0</td>\n",
              "      <td>0</td>\n",
              "      <td>1</td>\n",
              "      <td>0</td>\n",
              "      <td>1</td>\n",
              "      <td>0</td>\n",
              "    </tr>\n",
              "    <tr>\n",
              "      <th>3</th>\n",
              "      <td>895</td>\n",
              "      <td>27.0</td>\n",
              "      <td>0</td>\n",
              "      <td>0</td>\n",
              "      <td>315154</td>\n",
              "      <td>8.662</td>\n",
              "      <td>16</td>\n",
              "      <td>1</td>\n",
              "      <td>0</td>\n",
              "      <td>0</td>\n",
              "      <td>0</td>\n",
              "      <td>1</td>\n",
              "      <td>0</td>\n",
              "      <td>0</td>\n",
              "      <td>1</td>\n",
              "    </tr>\n",
              "    <tr>\n",
              "      <th>4</th>\n",
              "      <td>896</td>\n",
              "      <td>22.0</td>\n",
              "      <td>1</td>\n",
              "      <td>1</td>\n",
              "      <td>3101298</td>\n",
              "      <td>12.288</td>\n",
              "      <td>44</td>\n",
              "      <td>1</td>\n",
              "      <td>0</td>\n",
              "      <td>0</td>\n",
              "      <td>1</td>\n",
              "      <td>0</td>\n",
              "      <td>0</td>\n",
              "      <td>0</td>\n",
              "      <td>1</td>\n",
              "    </tr>\n",
              "  </tbody>\n",
              "</table>\n",
              "</div>"
            ],
            "text/plain": [
              "   PassengerId   Age  SibSp  ...  Embarked_C Embarked_Q  Embarked_S\n",
              "0          892  34.5      0  ...           0          1           0\n",
              "1          893  47.0      1  ...           0          0           1\n",
              "2          894  62.0      0  ...           0          1           0\n",
              "3          895  27.0      0  ...           0          0           1\n",
              "4          896  22.0      1  ...           0          0           1\n",
              "\n",
              "[5 rows x 15 columns]"
            ]
          },
          "metadata": {
            "tags": []
          },
          "execution_count": 64
        }
      ]
    },
    {
      "cell_type": "code",
      "metadata": {
        "id": "1u_QBheCqs47"
      },
      "source": [
        "test_titan.Age = test_titan.Age.astype(int)"
      ],
      "execution_count": null,
      "outputs": []
    },
    {
      "cell_type": "code",
      "metadata": {
        "id": "co33GljZqxH6",
        "outputId": "06b88269-8e49-4f7c-f15e-a2ba1b43f335",
        "colab": {
          "base_uri": "https://localhost:8080/",
          "height": 87
        }
      },
      "source": [
        "test_titan.Age.unique()"
      ],
      "execution_count": null,
      "outputs": [
        {
          "output_type": "execute_result",
          "data": {
            "text/plain": [
              "array([34, 47, 62, 27, 22, 14, 30, 26, 18, 21, 32, 46, 23, 63, 24, 35, 45,\n",
              "       55,  9, 38, 48, 50, 41, 33, 25, 39, 60, 36, 20, 28, 10, 17, 13, 31,\n",
              "       29,  6, 67, 49,  2, 76, 43, 16,  1, 12, 42, 53, 40, 61,  7, 15, 54,\n",
              "       64, 37, 11,  8,  0, 57, 19, 58, 59, 44,  5, 51,  3])"
            ]
          },
          "metadata": {
            "tags": []
          },
          "execution_count": 66
        }
      ]
    },
    {
      "cell_type": "code",
      "metadata": {
        "id": "tH6h2QiQq1wt"
      },
      "source": [
        "test_titan.replace({0:1},inplace=True)"
      ],
      "execution_count": null,
      "outputs": []
    },
    {
      "cell_type": "code",
      "metadata": {
        "id": "J_jVk0Xfq4yH",
        "outputId": "c5c2501c-57da-4186-87ee-ba584bc53412",
        "colab": {
          "base_uri": "https://localhost:8080/",
          "height": 87
        }
      },
      "source": [
        "test_titan.Age.unique()"
      ],
      "execution_count": null,
      "outputs": [
        {
          "output_type": "execute_result",
          "data": {
            "text/plain": [
              "array([34, 47, 62, 27, 22, 14, 30, 26, 18, 21, 32, 46, 23, 63, 24, 35, 45,\n",
              "       55,  9, 38, 48, 50, 41, 33, 25, 39, 60, 36, 20, 28, 10, 17, 13, 31,\n",
              "       29,  6, 67, 49,  2, 76, 43, 16,  1, 12, 42, 53, 40, 61,  7, 15, 54,\n",
              "       64, 37, 11,  8, 57, 19, 58, 59, 44,  5, 51,  3])"
            ]
          },
          "metadata": {
            "tags": []
          },
          "execution_count": 68
        }
      ]
    },
    {
      "cell_type": "code",
      "metadata": {
        "id": "pXl1QlYHq5g8"
      },
      "source": [
        "test_titan = test_titan.drop(['Ticket'],axis =1)"
      ],
      "execution_count": null,
      "outputs": []
    },
    {
      "cell_type": "code",
      "metadata": {
        "id": "pquGw7mzrAs1",
        "outputId": "e55935b2-5b27-4f70-da65-18b8046652f6",
        "colab": {
          "base_uri": "https://localhost:8080/",
          "height": 34
        }
      },
      "source": [
        "test_titan.shape"
      ],
      "execution_count": null,
      "outputs": [
        {
          "output_type": "execute_result",
          "data": {
            "text/plain": [
              "(418, 14)"
            ]
          },
          "metadata": {
            "tags": []
          },
          "execution_count": 70
        }
      ]
    },
    {
      "cell_type": "code",
      "metadata": {
        "id": "6rpFULfurETR",
        "outputId": "ecfcc5ae-273b-47e1-8124-274d2c7809f1",
        "colab": {
          "base_uri": "https://localhost:8080/",
          "height": 215
        }
      },
      "source": [
        "test_titan.head()"
      ],
      "execution_count": null,
      "outputs": [
        {
          "output_type": "execute_result",
          "data": {
            "text/html": [
              "<div>\n",
              "<style scoped>\n",
              "    .dataframe tbody tr th:only-of-type {\n",
              "        vertical-align: middle;\n",
              "    }\n",
              "\n",
              "    .dataframe tbody tr th {\n",
              "        vertical-align: top;\n",
              "    }\n",
              "\n",
              "    .dataframe thead th {\n",
              "        text-align: right;\n",
              "    }\n",
              "</style>\n",
              "<table border=\"1\" class=\"dataframe\">\n",
              "  <thead>\n",
              "    <tr style=\"text-align: right;\">\n",
              "      <th></th>\n",
              "      <th>PassengerId</th>\n",
              "      <th>Age</th>\n",
              "      <th>SibSp</th>\n",
              "      <th>Parch</th>\n",
              "      <th>Fare</th>\n",
              "      <th>Name_length</th>\n",
              "      <th>Pclass_lower_class</th>\n",
              "      <th>Pclass_middle_class</th>\n",
              "      <th>Pclass_upper_class</th>\n",
              "      <th>Sex_female</th>\n",
              "      <th>Sex_male</th>\n",
              "      <th>Embarked_C</th>\n",
              "      <th>Embarked_Q</th>\n",
              "      <th>Embarked_S</th>\n",
              "    </tr>\n",
              "  </thead>\n",
              "  <tbody>\n",
              "    <tr>\n",
              "      <th>0</th>\n",
              "      <td>892</td>\n",
              "      <td>34</td>\n",
              "      <td>1</td>\n",
              "      <td>1</td>\n",
              "      <td>7.829</td>\n",
              "      <td>16</td>\n",
              "      <td>1</td>\n",
              "      <td>1</td>\n",
              "      <td>1</td>\n",
              "      <td>1</td>\n",
              "      <td>1</td>\n",
              "      <td>1</td>\n",
              "      <td>1</td>\n",
              "      <td>1</td>\n",
              "    </tr>\n",
              "    <tr>\n",
              "      <th>1</th>\n",
              "      <td>893</td>\n",
              "      <td>47</td>\n",
              "      <td>1</td>\n",
              "      <td>1</td>\n",
              "      <td>7.000</td>\n",
              "      <td>32</td>\n",
              "      <td>1</td>\n",
              "      <td>1</td>\n",
              "      <td>1</td>\n",
              "      <td>1</td>\n",
              "      <td>1</td>\n",
              "      <td>1</td>\n",
              "      <td>1</td>\n",
              "      <td>1</td>\n",
              "    </tr>\n",
              "    <tr>\n",
              "      <th>2</th>\n",
              "      <td>894</td>\n",
              "      <td>62</td>\n",
              "      <td>1</td>\n",
              "      <td>1</td>\n",
              "      <td>9.688</td>\n",
              "      <td>25</td>\n",
              "      <td>1</td>\n",
              "      <td>1</td>\n",
              "      <td>1</td>\n",
              "      <td>1</td>\n",
              "      <td>1</td>\n",
              "      <td>1</td>\n",
              "      <td>1</td>\n",
              "      <td>1</td>\n",
              "    </tr>\n",
              "    <tr>\n",
              "      <th>3</th>\n",
              "      <td>895</td>\n",
              "      <td>27</td>\n",
              "      <td>1</td>\n",
              "      <td>1</td>\n",
              "      <td>8.662</td>\n",
              "      <td>16</td>\n",
              "      <td>1</td>\n",
              "      <td>1</td>\n",
              "      <td>1</td>\n",
              "      <td>1</td>\n",
              "      <td>1</td>\n",
              "      <td>1</td>\n",
              "      <td>1</td>\n",
              "      <td>1</td>\n",
              "    </tr>\n",
              "    <tr>\n",
              "      <th>4</th>\n",
              "      <td>896</td>\n",
              "      <td>22</td>\n",
              "      <td>1</td>\n",
              "      <td>1</td>\n",
              "      <td>12.288</td>\n",
              "      <td>44</td>\n",
              "      <td>1</td>\n",
              "      <td>1</td>\n",
              "      <td>1</td>\n",
              "      <td>1</td>\n",
              "      <td>1</td>\n",
              "      <td>1</td>\n",
              "      <td>1</td>\n",
              "      <td>1</td>\n",
              "    </tr>\n",
              "  </tbody>\n",
              "</table>\n",
              "</div>"
            ],
            "text/plain": [
              "   PassengerId  Age  SibSp  Parch  ...  Sex_male  Embarked_C  Embarked_Q  Embarked_S\n",
              "0          892   34      1      1  ...         1           1           1           1\n",
              "1          893   47      1      1  ...         1           1           1           1\n",
              "2          894   62      1      1  ...         1           1           1           1\n",
              "3          895   27      1      1  ...         1           1           1           1\n",
              "4          896   22      1      1  ...         1           1           1           1\n",
              "\n",
              "[5 rows x 14 columns]"
            ]
          },
          "metadata": {
            "tags": []
          },
          "execution_count": 71
        }
      ]
    },
    {
      "cell_type": "markdown",
      "metadata": {
        "id": "84m80-nirKe6"
      },
      "source": [
        "## **Model Building**"
      ]
    },
    {
      "cell_type": "code",
      "metadata": {
        "id": "3sCCnLjarbb3"
      },
      "source": [
        "features = ['Age','SibSp','Parch','Fare','Pclass_lower_class','Pclass_middle_class','Pclass_upper_class','Name_length','Sex_female','Sex_male','Embarked_C','Embarked_Q','Embarked_S']\n",
        "selected_train_titan = train_titan[features]\n",
        "labels= train_titan.Survived"
      ],
      "execution_count": null,
      "outputs": []
    },
    {
      "cell_type": "code",
      "metadata": {
        "id": "LV-3nsJ6rl5x"
      },
      "source": [
        "x_train, x_test, y_train, y_test = train_test_split(selected_train_titan,labels,train_size=0.75,test_size=0.25,random_state=42)"
      ],
      "execution_count": null,
      "outputs": []
    },
    {
      "cell_type": "code",
      "metadata": {
        "id": "2vGnGHIxrzwJ",
        "outputId": "6ad989f3-001f-4a27-f3e1-62330b8a6bce",
        "colab": {
          "base_uri": "https://localhost:8080/",
          "height": 105
        }
      },
      "source": [
        "model =LogisticRegression(max_iter = 10000)\n",
        "model.fit(x_train, y_train)"
      ],
      "execution_count": null,
      "outputs": [
        {
          "output_type": "execute_result",
          "data": {
            "text/plain": [
              "LogisticRegression(C=1.0, class_weight=None, dual=False, fit_intercept=True,\n",
              "                   intercept_scaling=1, l1_ratio=None, max_iter=10000,\n",
              "                   multi_class='auto', n_jobs=None, penalty='l2',\n",
              "                   random_state=None, solver='lbfgs', tol=0.0001, verbose=0,\n",
              "                   warm_start=False)"
            ]
          },
          "metadata": {
            "tags": []
          },
          "execution_count": 75
        }
      ]
    },
    {
      "cell_type": "code",
      "metadata": {
        "id": "QoX2aewar8eF",
        "outputId": "1a8ab376-22c9-4929-8222-b40744e5ed22",
        "colab": {
          "base_uri": "https://localhost:8080/",
          "height": 34
        }
      },
      "source": [
        "print(model.score(x_train, y_train))"
      ],
      "execution_count": null,
      "outputs": [
        {
          "output_type": "stream",
          "text": [
            "0.8108108108108109\n"
          ],
          "name": "stdout"
        }
      ]
    },
    {
      "cell_type": "code",
      "metadata": {
        "id": "erUGqW2jsBEX",
        "outputId": "fb789405-b3f5-4d28-bdc2-55d4af1faf32",
        "colab": {
          "base_uri": "https://localhost:8080/",
          "height": 34
        }
      },
      "source": [
        "print(model.score(x_test,y_test))"
      ],
      "execution_count": null,
      "outputs": [
        {
          "output_type": "stream",
          "text": [
            "0.8071748878923767\n"
          ],
          "name": "stdout"
        }
      ]
    },
    {
      "cell_type": "code",
      "metadata": {
        "id": "8rDmNJMTsENf"
      },
      "source": [
        "selected_test_titan = test_titan[features]\n",
        "model =LogisticRegression(max_iter=10000)\n",
        "model.fit(selected_train_titan,labels)\n",
        "submission = pd.DataFrame({'PassengerID':test_titan.PassengerId,'Survived':model.predict(selected_test_titan)})\n",
        "submission.to_csv(\"Submission.csv\")"
      ],
      "execution_count": null,
      "outputs": []
    }
  ]
}